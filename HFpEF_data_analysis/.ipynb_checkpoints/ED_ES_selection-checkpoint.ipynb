{
 "cells": [
  {
   "cell_type": "code",
   "execution_count": 1,
   "metadata": {},
   "outputs": [],
   "source": [
    "import CMR_HFpEF_Analysis.Defaults as Defaults\n",
    "import CMR_HFpEF_Analysis.functions_collection as ff\n",
    "import CMR_HFpEF_Analysis.Image_utils as util\n",
    "\n",
    "import os\n",
    "import numpy as np\n",
    "import nibabel as nb\n",
    "import matplotlib.pyplot as plt\n",
    "import SimpleITK as sitk\n",
    "\n",
    "main_path = '/mnt/mount_zc_NAS/HFpEF/data/HFpEF_data/'"
   ]
  },
  {
   "cell_type": "markdown",
   "metadata": {},
   "source": [
    "## Select ED and ES visually"
   ]
  },
  {
   "cell_type": "code",
   "execution_count": 8,
   "metadata": {},
   "outputs": [],
   "source": [
    "case_list = ff.find_all_target_files(['ID_0753'], os.path.join(main_path, 'raw_img'))\n",
    "\n",
    "for case in case_list:\n",
    "\n",
    "    patient_id = os.path.basename(case)\n",
    "\n",
    "    # find all frames\n",
    "    frame_list = ff.sort_timeframe(ff.find_all_target_files(['Org*'],case),1,'e')\n",
    "\n",
    "    # put the mid slice from each frame into a new image\n",
    "    for i in range(0,frame_list.shape[0]):\n",
    "        frame = sitk.ReadImage(frame_list[i])\n",
    "        spacing = frame.GetSpacing()\n",
    "        img = np.rollaxis(sitk.GetArrayFromImage(frame),0,3)\n",
    "        img = np.rollaxis(img,0,2)\n",
    "\n",
    "        if i == 0:\n",
    "            m, n, k = img.shape\n",
    "            mid_slice_image = np.zeros([m,n, frame_list.shape[0]])\n",
    "        \n",
    "        img = util.crop_or_pad(img, [m,n,img.shape[-1]])\n",
    "\n",
    "        # find the non-blank slice\n",
    "        non_blank_slices = [i for i in range(img.shape[-1]) if np.sum(img[:, :, i]) != 0]\n",
    "\n",
    "        # put the middle slice into the mid_slice_image\n",
    "        mid_slice_image[:,:,i] = img[:,:, non_blank_slices[len(non_blank_slices)//2]]\n",
    "        \n",
    "    # save this stacked image for visual decision\n",
    "    save_folder = os.path.join(main_path, 'ED_ES', patient_id); ff.make_folder([save_folder])\n",
    "    nb.save(nb.Nifti1Image(np.flip(np.flip(mid_slice_image,0),1), np.eye(4)), os.path.join(save_folder, 'mid_slice_img.nii.gz'))\n",
    "\n",
    "    # prepare a blank txt:\n",
    "    with open(os.path.join(save_folder, 'ED_ES.txt'), 'w') as file:\n",
    "        pass  # Do nothing\n"
   ]
  },
  {
   "cell_type": "code",
   "execution_count": 18,
   "metadata": {},
   "outputs": [
    {
     "name": "stdout",
     "output_type": "stream",
     "text": [
      "Number 1: 1\n",
      "Number 2: 11\n"
     ]
    }
   ],
   "source": [
    "# after visual selection of ED and ES, how to read:\n",
    "case_list = ff.find_all_target_files(['ID_0331'], os.path.join(main_path, 'img'))\n",
    "\n",
    "for case in case_list:\n",
    "\n",
    "    patient_id = os.path.basename(case)\n",
    "\n",
    "    filename = os.path.join(main_path, 'ED_ES', patient_id,'ED_ES.txt')\n",
    "\n",
    "    # prepare a blank txt:\n",
    "    with open(filename, 'r') as file:\n",
    "        line = file.readline().strip()\n",
    "        numbers = line.split()\n",
    "        num1 = int(numbers[0])\n",
    "        num2 = int(numbers[1])\n",
    "        print(\"Number 1:\", num1)\n",
    "        print(\"Number 2:\", num2)"
   ]
  }
 ],
 "metadata": {
  "kernelspec": {
   "display_name": "Python 3",
   "language": "python",
   "name": "python3"
  },
  "language_info": {
   "codemirror_mode": {
    "name": "ipython",
    "version": 3
   },
   "file_extension": ".py",
   "mimetype": "text/x-python",
   "name": "python",
   "nbconvert_exporter": "python",
   "pygments_lexer": "ipython3",
   "version": "3.8.5"
  }
 },
 "nbformat": 4,
 "nbformat_minor": 2
}

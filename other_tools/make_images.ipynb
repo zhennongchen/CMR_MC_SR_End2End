{
 "cells": [
  {
   "cell_type": "code",
   "execution_count": 1,
   "metadata": {},
   "outputs": [
    {
     "name": "stderr",
     "output_type": "stream",
     "text": [
      "2023-02-07 04:37:32.754671: I tensorflow/stream_executor/platform/default/dso_loader.cc:49] Successfully opened dynamic library libcudart.so.11.0\n"
     ]
    }
   ],
   "source": [
    "import numpy as np\n",
    "import os\n",
    "import math\n",
    "import nibabel as nb\n",
    "import CMR_HFpEF_Analysis.functions_collection as ff\n",
    "import CMR_HFpEF_Analysis.Image_utils as util"
   ]
  },
  {
   "cell_type": "code",
   "execution_count": 5,
   "metadata": {},
   "outputs": [
    {
     "name": "stdout",
     "output_type": "stream",
     "text": [
      "(128, 128, 60) (1.25, 1.25, 1.9999999)\n"
     ]
    }
   ],
   "source": [
    "# filename = '/mnt/mount_zc_NAS/HFpEF/data/simulated_data_version2/1256/ED/ds/data.nii.gz'\n",
    "filename = '/mnt/mount_zc_NAS/HFpEF/data/processed_HR_data/1256/ED/HR_ED_crop_60.nii.gz'\n",
    "img_file = nb.load(filename)\n",
    "header = img_file.header\n",
    "spacing = img_file.header.get_zooms()\n",
    "affine = img_file.affine\n",
    "img = img_file.get_fdata()\n",
    "img= np.round(img)\n",
    "img = img.astype(int)\n",
    "print(img.shape,spacing)\n",
    "\n",
    "\n",
    "ii = util.relabel(img,4,0)\n",
    "nb.save(nb.Nifti1Image(ii, affine,header),'/mnt/mount_zc_NAS/HFpEF/data/1256_truth.nii.gz')"
   ]
  }
 ],
 "metadata": {
  "kernelspec": {
   "display_name": "Python 3",
   "language": "python",
   "name": "python3"
  },
  "language_info": {
   "codemirror_mode": {
    "name": "ipython",
    "version": 3
   },
   "file_extension": ".py",
   "mimetype": "text/x-python",
   "name": "python",
   "nbconvert_exporter": "python",
   "pygments_lexer": "ipython3",
   "version": "3.8.10 (default, Jun 22 2022, 20:18:18) \n[GCC 9.4.0]"
  },
  "orig_nbformat": 4,
  "vscode": {
   "interpreter": {
    "hash": "e7370f93d1d0cde622a1f8e1c04877d8463912d04d973331ad4851f04de6915a"
   }
  }
 },
 "nbformat": 4,
 "nbformat_minor": 2
}

{
 "cells": [
  {
   "cell_type": "code",
   "execution_count": 1,
   "metadata": {},
   "outputs": [],
   "source": [
    "import os\n",
    "import numpy as np\n",
    "import pandas as pd\n",
    "import nibabel as nb\n",
    "import CMR_HFpEF_Analysis.functions_collection as ff"
   ]
  },
  {
   "cell_type": "code",
   "execution_count": 2,
   "metadata": {},
   "outputs": [
    {
     "name": "stdout",
     "output_type": "stream",
     "text": [
      "1331\n"
     ]
    }
   ],
   "source": [
    "data_path = '/mnt/mount_zc_NAS/HFpEF/data/contour_dataset/simulated_data'\n",
    "patient_list = ff.sort_timeframe(ff.find_all_target_files(['*'],data_path),0)\n",
    "print(len(patient_list))"
   ]
  },
  {
   "cell_type": "code",
   "execution_count": 3,
   "metadata": {},
   "outputs": [
    {
     "name": "stdout",
     "output_type": "stream",
     "text": [
      "1331\n",
      "1030 301\n"
     ]
    }
   ],
   "source": [
    "patient_id_list = []\n",
    "for p in patient_list:\n",
    "    i = ff.find_timeframe(p,0)\n",
    "    tf_folders = ff.find_all_target_files(['ED'],p)\n",
    "    # if len(tf_folders)!= 2: # have both ED and ES\n",
    "    #     continue\n",
    "    patient_id_list.append(i)\n",
    "print(len(patient_id_list))\n",
    "\n",
    "# 80% train, 20% test\n",
    "import math\n",
    "training_id = patient_id_list[0: 1030]\n",
    "test_id = patient_id_list[1030: len(patient_id_list)]\n",
    "print(len(training_id),len(test_id))"
   ]
  },
  {
   "cell_type": "code",
   "execution_count": 4,
   "metadata": {},
   "outputs": [],
   "source": [
    "batch_size = int(len(training_id) / 5)\n",
    "ds_num = 1\n",
    "normal_num = 15\n",
    "\n",
    "\n",
    "Result = []\n",
    "for id_list in [training_id,test_id]:\n",
    "    for i in range(0,len(id_list)):\n",
    "        patient_id = id_list[i]\n",
    "        if patient_id in training_id:\n",
    "            train = 'train'\n",
    "            batch = i // batch_size\n",
    "        else:\n",
    "            train = 'test'\n",
    "            batch = 5\n",
    "        \n",
    "        simulate_folder = os.path.join(data_path,str(patient_id))\n",
    "        simulate_tf_folder = ff.find_all_target_files(['ED'],simulate_folder)\n",
    "        \n",
    "        for tf_folder in simulate_tf_folder:\n",
    "            tf = os.path.basename(tf_folder)\n",
    "\n",
    "            # check lv slice condition\n",
    "            condition = np.load(os.path.join(tf_folder,'lv_slice_condition.npy'),allow_pickle = True)\n",
    "            remain_slice_num = len(condition[2][0])\n",
    "\n",
    "            if remain_slice_num <= 6:\n",
    "                continue\n",
    "\n",
    "            # ground truth contours(HR)\n",
    "            truth_file_HR = os.path.join('/mnt/mount_zc_NAS/HFpEF/data/contour_dataset/processed_HR_data',str(patient_id), tf, 'HR_ED_zoomed_crop_flip.nii.gz')\n",
    "\n",
    "            # ground truth contours(HR) + cleaned contours\n",
    "            truth_file_HR_clean = os.path.join('/mnt/mount_zc_NAS/HFpEF/data/contour_dataset/processed_HR_data',str(patient_id), tf, 'HR_ED_zoomed_crop_flip_clean.nii.gz')\n",
    "\n",
    "            # ground truth downsampled contours(LR)\n",
    "            truth_file_LR = os.path.join(tf_folder, 'ds/data.nii.gz')\n",
    "\n",
    "            # ground truth downsampled + cleaned contours(LR)\n",
    "            truth_file_LR_clean = os.path.join(tf_folder, 'ds/data_clean.nii.gz')\n",
    "\n",
    "            # # assess whether it has 7 LV slices:\n",
    "            # LR_clean_img = nb.load(truth_file_LR_clean).get_fdata(); LR_clean_img = np.round(LR_clean_img).astype(int)\n",
    "            # nonempty_slices = len([z_slice for z_slice in range(LR_clean_img.shape[2]) if np.sum(LR_clean_img[:, :, z_slice]) != 0])\n",
    "            # if nonempty_slices < 7:\n",
    "            #     print(patient_id)\n",
    "            \n",
    "            # ground truth center points\n",
    "            gt_center_points_file = os.path.join(tf_folder,'ds/centerlist.npy')\n",
    "           \n",
    "            r = [train,batch, patient_id, tf]\n",
    "                \n",
    "            # normal_motion\n",
    "            for j in range(0,normal_num):\n",
    "                input_file = os.path.join(tf_folder ,'normal_motion_' + str(j+1) ,'data.nii.gz')\n",
    "                input_file_clean = os.path.join(tf_folder ,'normal_motion_' + str(j+1) ,'data_clean.nii.gz')\n",
    "                motion_center_points_file = os.path.join(tf_folder ,'normal_motion_' + str(j+1) ,'centerlist.npy')\n",
    "                motion_name = os.path.basename(os.path.dirname(input_file))\n",
    "                Result.append(r + [motion_name, truth_file_HR, truth_file_HR_clean, truth_file_LR,  truth_file_LR_clean, gt_center_points_file, input_file, input_file_clean, motion_center_points_file])"
   ]
  },
  {
   "cell_type": "code",
   "execution_count": 9,
   "metadata": {},
   "outputs": [],
   "source": [
    "df = pd.DataFrame(Result, columns = ['train','batch','Patient_ID','tf','motion_name','GroundTruthHR','GroundTruthHR_clean','GroundTruthLR','GroundTruthLR_clean','GroundTruth_CenterPoints','MotionFile', 'MotionFile_clean' , 'Motion_CenterPoints'])\n",
    "df.to_excel(os.path.join('/mnt/mount_zc_NAS/HFpEF/data/Patient_list/Patient_list_train_test_simulated_data_15normals.xlsx'),index=False)"
   ]
  },
  {
   "cell_type": "markdown",
   "metadata": {},
   "source": [
    "# For SunnyBrook Data"
   ]
  },
  {
   "cell_type": "code",
   "execution_count": 2,
   "metadata": {},
   "outputs": [
    {
     "name": "stdout",
     "output_type": "stream",
     "text": [
      "43\n"
     ]
    }
   ],
   "source": [
    "data_path = '/mnt/mount_zc_NAS/HFpEF/data/Sunny_Brooks/sunnybrooks_nii/'\n",
    "patient_list = ff.find_all_target_files(['*'],data_path)\n",
    "print(len(patient_list))\n",
    "\n",
    "patient_id_list = []\n",
    "for p in patient_list:\n",
    "    i = os.path.basename(p)\n",
    "    patient_id_list.append(i)"
   ]
  },
  {
   "cell_type": "code",
   "execution_count": 3,
   "metadata": {},
   "outputs": [],
   "source": [
    "Result = []\n",
    "for i in range(0,len(patient_id_list)):\n",
    "    patient_id = patient_id_list[i]\n",
    "    train = 'test'\n",
    "    batch = 5\n",
    "        \n",
    "    patient_folder = os.path.join(data_path,patient_id)\n",
    "    \n",
    "    tf = ''\n",
    "\n",
    "    # ground truth contours(HR)\n",
    "    truth_file_HR = os.path.join('/mnt/mount_zc_NAS/HFpEF/data/contour_dataset/processed_HR_data','100/ED', 'HR_ED_zoomed_crop_flip.nii.gz')\n",
    "\n",
    "    # ground truth contours(HR) + cleaned contours\n",
    "    truth_file_HR_clean = os.path.join('/mnt/mount_zc_NAS/HFpEF/data/contour_dataset/processed_HR_data','100/ED', 'HR_ED_zoomed_crop_flip_clean.nii.gz')\n",
    "\n",
    "    # ground truth downsampled contours(LR)\n",
    "    truth_file_LR = os.path.join('/mnt/mount_zc_NAS/HFpEF/data/contour_dataset/simulated_data', '100/ED', 'ds/data.nii.gz')\n",
    "\n",
    "    # ground truth downsampled + cleaned contours(LR)\n",
    "    truth_file_LR_clean = os.path.join('/mnt/mount_zc_NAS/HFpEF/data/contour_dataset/simulated_data', '100/ED', 'ds/data_clean.nii.gz')\n",
    "\n",
    "    # ground truth center points\n",
    "    gt_center_points_file = os.path.join('/mnt/mount_zc_NAS/HFpEF/data/contour_dataset/simulated_data', '100/ED', 'ds/center_list.npy')\n",
    "           \n",
    "    r = [train,batch, patient_id, tf]\n",
    "                \n",
    "    # normal_motion\n",
    "    input_file = ''\n",
    "    input_file_clean = os.path.join(patient_folder, 'SAX_ED_for_DL.nii.gz' )\n",
    "    motion_center_points_file = os.path.join('/mnt/mount_zc_NAS/HFpEF/data/contour_dataset/simulated_data', '100/ED', 'ds/centerlist.npy')\n",
    "    motion_name = ''\n",
    "    Result.append(r + [motion_name, truth_file_HR, truth_file_HR_clean, truth_file_LR,  truth_file_LR_clean, gt_center_points_file, input_file, input_file_clean, motion_center_points_file])"
   ]
  },
  {
   "cell_type": "code",
   "execution_count": 4,
   "metadata": {},
   "outputs": [],
   "source": [
    "df = pd.DataFrame(Result, columns = ['train','batch','Patient_ID','tf','motion_name','GroundTruthHR','GroundTruthHR_clean','GroundTruthLR','GroundTruthLR_clean','GroundTruth_CenterPoints','MotionFile', 'MotionFile_clean' , 'Motion_CenterPoints'])\n",
    "df.to_excel(os.path.join('/mnt/mount_zc_NAS/HFpEF/data/Patient_list/Patient_list_SunnyBrooks.xlsx'),index=False)"
   ]
  },
  {
   "cell_type": "markdown",
   "metadata": {},
   "source": [
    "# for HR data"
   ]
  },
  {
   "cell_type": "code",
   "execution_count": null,
   "metadata": {},
   "outputs": [],
   "source": [
    "batch_size = int(len(training_id) / 5)\n",
    "ds_num = 1\n",
    "normal_num = 10\n",
    "\n",
    "\n",
    "Result = []\n",
    "for id_list in [training_id,test_id]:\n",
    "    for i in range(0,len(id_list)):\n",
    "        patient_id = id_list[i]\n",
    "        if patient_id in training_id:\n",
    "            train = 'train'\n",
    "            batch = i // batch_size\n",
    "        else:\n",
    "            train = 'test'\n",
    "            batch = 5\n",
    "        \n",
    "        simulate_folder = os.path.join(data_path,str(patient_id))\n",
    "        simulate_tf_folder = ff.find_all_target_files(['*'],simulate_folder)\n",
    "        \n",
    "        for tf_folder in simulate_tf_folder:\n",
    "            tf = os.path.basename(tf_folder)\n",
    "\n",
    "            # check lv slice condition\n",
    "            condition = np.load(os.path.join(tf_folder,'lv_slice_condition.npy'),allow_pickle = True)\n",
    "            remain_slice_num = len(condition[2][0])\n",
    "\n",
    "            if remain_slice_num <= 6:\n",
    "                continue\n",
    "\n",
    "            # ground truth (HR)\n",
    "            truth_file_HR = os.path.join('/mnt/mount_zc_NAS/HFpEF/data/processed_HR_data',str(patient_id), tf, 'HR_'+tf+'_crop_60_flip.nii.gz')\n",
    "\n",
    "            # ground truth (LR)\n",
    "            truth_file_LR = os.path.join(tf_folder, 'ds/data_flip_clean.nii.gz')\n",
    "\n",
    "            # ground truth (center points)\n",
    "            center_points_file = os.path.join(tf_folder,'ds/HR/HR_centerlist_LV_slices.npy')\n",
    "           \n",
    "            r = [train,batch, patient_id, tf]\n",
    "                \n",
    "\n",
    "            # normal_motion\n",
    "            for j in range(0,normal_num):\n",
    "                pred_path = os.path.join('/mnt/mount_zc_NAS/HFpEF/predict/Combined/Iteration_C/round_1/images')\n",
    "                input_file = os.path.join(pred_path, str(patient_id), tf ,'normal_motion_' + str(j+1) ,'pred_img_HR_final_flip_clean.nii.gz')\n",
    "                motion_name = os.path.basename(os.path.dirname(input_file))\n",
    "                Result.append(r + [motion_name, truth_file_HR, truth_file_LR, center_points_file, input_file])\n",
    "\n",
    "\n",
    "            # severe_motion\n",
    "            # for j in range(0,severe_2x_num):\n",
    "            #     input_file = os.path.join(tf_folder ,'normal_motion_' + str(j+1) + '_2x' ,'data_flip_clean.nii.gz')\n",
    "            #     motion_name = os.path.basename(os.path.dirname(input_file))\n",
    "            #     Result.append(r + [motion_name, truth_file_HR, truth_file_LR, center_points_file, input_file])\n",
    "\n",
    "            # for j in range(0,severe_2x_num):\n",
    "            #     input_file = os.path.join(tf_folder ,'normal_motion_' + str(j+1) + '_2.5x' ,'data.nii.gz')\n",
    "            #     motion_name = os.path.basename(os.path.dirname(input_file))\n",
    "            #     Result.append(r + [motion_name, truth_file_HR, truth_file_LR, center_points_file, input_file])\n",
    "\n",
    "            # for j in [4]:#range(0,severe_num):\n",
    "            #     input_file = os.path.join(tf_folder ,'normal_motion_' + str(j+1) + '_3x' ,'data.nii.gz')\n",
    "            #     motion_name = os.path.basename(os.path.dirname(input_file))\n",
    "            #     Result.append(r + [motion_name, truth_file, input_file])\n",
    "\n"
   ]
  },
  {
   "cell_type": "code",
   "execution_count": null,
   "metadata": {},
   "outputs": [],
   "source": [
    "df = pd.DataFrame(Result, columns = ['train','batch','Patient_ID','tf','motion_name','GroundTruthHR','GroundTruthLR','CenterPoints','InputFile'])\n",
    "df.to_excel(os.path.join('/mnt/mount_zc_NAS/HFpEF/data/Patient_list/Patient_list_train_test_HR_LVslices_motion_flip_clean_7_slice_10_normal_IterationC.xlsx'),index=False)"
   ]
  }
 ],
 "metadata": {
  "kernelspec": {
   "display_name": "Python 3.8.10 64-bit",
   "language": "python",
   "name": "python3"
  },
  "language_info": {
   "codemirror_mode": {
    "name": "ipython",
    "version": 3
   },
   "file_extension": ".py",
   "mimetype": "text/x-python",
   "name": "python",
   "nbconvert_exporter": "python",
   "pygments_lexer": "ipython3",
   "version": "3.8.10"
  },
  "vscode": {
   "interpreter": {
    "hash": "e7370f93d1d0cde622a1f8e1c04877d8463912d04d973331ad4851f04de6915a"
   }
  }
 },
 "nbformat": 4,
 "nbformat_minor": 4
}

{
 "cells": [
  {
   "cell_type": "code",
   "execution_count": 2,
   "metadata": {
    "collapsed": false,
    "pycharm": {
     "name": "#%%\n"
    }
   },
   "outputs": [
    {
     "ename": "ModuleNotFoundError",
     "evalue": "No module named 'torch'",
     "output_type": "error",
     "traceback": [
      "\u001b[0;31m---------------------------------------------------------------------------\u001b[0m",
      "\u001b[0;31mModuleNotFoundError\u001b[0m                       Traceback (most recent call last)",
      "Cell \u001b[0;32mIn [2], line 7\u001b[0m\n\u001b[1;32m      5\u001b[0m \u001b[39mfrom\u001b[39;00m \u001b[39mtqdm\u001b[39;00m \u001b[39mimport\u001b[39;00m tqdm\n\u001b[1;32m      6\u001b[0m \u001b[39mfrom\u001b[39;00m \u001b[39mimage_utils\u001b[39;00m \u001b[39mimport\u001b[39;00m \u001b[39m*\u001b[39m\n\u001b[0;32m----> 7\u001b[0m \u001b[39mimport\u001b[39;00m \u001b[39mtorch\u001b[39;00m\n\u001b[1;32m      8\u001b[0m \u001b[39mimport\u001b[39;00m \u001b[39mnetworks\u001b[39;00m\n\u001b[1;32m      9\u001b[0m \u001b[39mfrom\u001b[39;00m \u001b[39mDegradProcess\u001b[39;00m \u001b[39mimport\u001b[39;00m batch_degrade, MotionDegrad\n",
      "\u001b[0;31mModuleNotFoundError\u001b[0m: No module named 'torch'"
     ]
    }
   ],
   "source": [
    "import os\n",
    "import nibabel as nib\n",
    "import math\n",
    "import numpy as np\n",
    "from tqdm import tqdm\n",
    "from image_utils import *\n",
    "import torch\n",
    "import networks\n",
    "from DegradProcess import batch_degrade, MotionDegrad\n",
    "from torch import optim\n",
    "import torch.nn.functional as F\n",
    "import torch\n",
    "import CMR_HFpEF_Analysis.Image_utils as util\n",
    "\n",
    "gpu_id = 0\n",
    "device = torch.device(\"cuda:{:d}\".format(gpu_id) if torch.cuda.is_available() else \"cpu\")"
   ]
  },
  {
   "cell_type": "markdown",
   "metadata": {
    "collapsed": false,
    "pycharm": {
     "name": "#%% md\n"
    }
   },
   "source": [
    "### Load Ground-truth HR data"
   ]
  },
  {
   "cell_type": "code",
   "execution_count": 1,
   "metadata": {},
   "outputs": [
    {
     "ename": "NameError",
     "evalue": "name 'nib' is not defined",
     "output_type": "error",
     "traceback": [
      "\u001b[0;31m---------------------------------------------------------------------------\u001b[0m",
      "\u001b[0;31mNameError\u001b[0m                                 Traceback (most recent call last)",
      "Cell \u001b[0;32mIn [1], line 3\u001b[0m\n\u001b[1;32m      1\u001b[0m data_dir \u001b[39m=\u001b[39m \u001b[39m'\u001b[39m\u001b[39m/mnt/mount_zc_NAS/HFpEF/data/processed_HR_data/154/ED/\u001b[39m\u001b[39m'\u001b[39m\n\u001b[1;32m      2\u001b[0m seg_file_path \u001b[39m=\u001b[39m os\u001b[39m.\u001b[39mpath\u001b[39m.\u001b[39mjoin(data_dir, \u001b[39m'\u001b[39m\u001b[39mHR_ED_crop.nii.gz\u001b[39m\u001b[39m'\u001b[39m)\n\u001b[0;32m----> 3\u001b[0m seg_nib \u001b[39m=\u001b[39m nib\u001b[39m.\u001b[39mload(seg_file_path)\n\u001b[1;32m      4\u001b[0m HR_data \u001b[39m=\u001b[39m seg_nib\u001b[39m.\u001b[39mget_fdata()\n\u001b[1;32m      5\u001b[0m HR_data \u001b[39m=\u001b[39m np\u001b[39m.\u001b[39mrollaxis(HR_data,\u001b[39m2\u001b[39m,\u001b[39m0\u001b[39m)\n",
      "\u001b[0;31mNameError\u001b[0m: name 'nib' is not defined"
     ]
    }
   ],
   "source": [
    "data_dir = '/mnt/mount_zc_NAS/HFpEF/data/processed_HR_data/154/ED/'\n",
    "seg_file_path = os.path.join(data_dir, 'HR_ED_crop.nii.gz')\n",
    "seg_nib = nib.load(seg_file_path)\n",
    "HR_data = seg_nib.get_fdata()\n",
    "HR_data = np.rollaxis(HR_data,2,0)\n",
    "HR_data = np.round(HR_data)\n",
    "HR_data = HR_data.astype(int)\n",
    "HR_spacing = seg_nib.header.get_zooms()\n",
    "HR_spacing = np.asarray([HR_spacing[-1], HR_spacing[0], HR_spacing[1]])\n",
    "\n",
    "print(HR_data.shape,HR_spacing)\n",
    "\n",
    "plt.figure(figsize = (12,3))\n",
    "plt.subplot(131); plt.imshow(HR_data[32, ...], 'gray', aspect=HR_spacing[2] / HR_spacing[1])\n",
    "plt.subplot(132); plt.imshow(HR_data[:,60, :], 'gray', aspect= HR_spacing[0] / HR_spacing[2])\n",
    "plt.subplot(133); plt.imshow(HR_data[:,:,70], 'gray', aspect= HR_spacing[0] / HR_spacing[1])\n",
    "# vol3view(HR_data)"
   ]
  },
  {
   "cell_type": "code",
   "execution_count": 5,
   "metadata": {},
   "outputs": [
    {
     "name": "stdout",
     "output_type": "stream",
     "text": [
      "50.26923076923077 79.81611374407584\n",
      "wrong orientation\n",
      "False\n"
     ]
    }
   ],
   "source": [
    "ori = util.correct_ori(HR_data)\n",
    "print(ori)"
   ]
  },
  {
   "cell_type": "code",
   "execution_count": 65,
   "metadata": {},
   "outputs": [
    {
     "name": "stdout",
     "output_type": "stream",
     "text": [
      "72.70833333333333 41.934510669610006\n"
     ]
    }
   ],
   "source": [
    "# check whether the data has correct orientation\n",
    "for j in range(HR_data.shape[1]//2 - 14,HR_data.shape[1]):\n",
    "    s = HR_data[:,j,:]\n",
    "    # make sure it has RV and LV\n",
    "    rv_i = np.asarray(np.where(s == 4))\n",
    "    lv_i = np.asarray(np.where(s == 1))\n",
    "\n",
    "    if (rv_i.shape[1]) == 0 or (lv_i.shape[1]) == 0:\n",
    "        continue\n",
    "    else:\n",
    "        # compare their y axis \n",
    "\n",
    "        # s = HR_data[:,j,:]\n",
    "        # rv_i = np.asarray(np.where(s == 4))\n",
    "        # lv_i = np.asarray(np.where(s == 1))\n",
    "        lv_i_x = np.mean(lv_i[1,:])\n",
    "        rv_i_x = np.mean(rv_i[1,:])\n",
    "        print(lv_i_x,rv_i_x)\n",
    "\n",
    "        if rv_i_x > lv_i_x:\n",
    "            print('wrong orientation')\n",
    "        break"
   ]
  },
  {
   "cell_type": "markdown",
   "metadata": {
    "collapsed": false,
    "pycharm": {
     "name": "#%% md\n"
    }
   },
   "source": [
    "### Load degraded LR data"
   ]
  },
  {
   "cell_type": "code",
   "execution_count": 18,
   "metadata": {},
   "outputs": [
    {
     "name": "stdout",
     "output_type": "stream",
     "text": [
      "(13, 128, 128) [10.    1.25  1.25] 2\n",
      "torch.Size([1, 4, 13, 128, 128])\n"
     ]
    },
    {
     "data": {
      "image/png": "[encoded data removed]",
      "text/plain": [
       "<Figure size 1200x300 with 3 Axes>"
      ]
     },
     "metadata": {},
     "output_type": "display_data"
    }
   ],
   "source": [
    "data_dir = '/mnt/mount_zc_NAS/HFpEF/data/simulated_data/2/ED/ds'\n",
    "seg_file_path = os.path.join(data_dir, 'data.nii.gz')\n",
    "\n",
    "seg_nib = nib.load(seg_file_path)\n",
    "spacing = seg_nib.header.get_zooms()\n",
    "spacing = np.asarray([spacing[-1], spacing[0], spacing[1]])\n",
    "seg_data = seg_nib.get_fdata()\n",
    "\n",
    "seg_data = np.rollaxis(seg_data,2,0)\n",
    "\n",
    "seg_data = np.concatenate((seg_data,np.zeros((1,128,128))))\n",
    "\n",
    "seg_data = np.round(seg_data)\n",
    "seg_data = seg_data.astype(int)\n",
    "\n",
    "plt.figure(figsize = (12,3))\n",
    "plt.subplot(131); plt.imshow(seg_data[4, ...], 'gray', aspect=spacing[2] / spacing[1])\n",
    "plt.subplot(132); plt.imshow(seg_data[:,64, :], 'gray', aspect=spacing[0] / spacing[2])\n",
    "plt.subplot(133); plt.imshow(seg_data[:,:,70], 'gray', aspect=spacing[0] / spacing[1])\n",
    "\n",
    "print(seg_data.shape,spacing, seg_data[4,60,50])\n",
    "\n",
    "seg_LR = torch.Tensor(label2onehot(seg_data)[np.newaxis,:]).to(device)\n",
    "print(seg_LR.shape)\n",
    "\n",
    "# vol3view(seg_data,slices = [12,64,64])\n"
   ]
  },
  {
   "cell_type": "markdown",
   "metadata": {
    "collapsed": false,
    "pycharm": {
     "name": "#%% md\n"
    }
   },
   "source": [
    "### Load generative models of HR segmentation"
   ]
  },
  {
   "cell_type": "code",
   "execution_count": 19,
   "metadata": {
    "collapsed": false,
    "pycharm": {
     "name": "#%%\n"
    }
   },
   "outputs": [
    {
     "name": "stdout",
     "output_type": "stream",
     "text": [
      "/mnt/mount_zc_NAS/HFpEF/model/SRHeart/betaVAE/VAECE_zdim_64_epoch_100_beta_1.00E-03_alpha.pt\n"
     ]
    },
    {
     "data": {
      "text/plain": [
       "<All keys matched successfully>"
      ]
     },
     "execution_count": 19,
     "metadata": {},
     "output_type": "execute_result"
    }
   ],
   "source": [
    "# load model\n",
    "path = '/mnt/mount_zc_NAS/HFpEF/model/SRHeart/betaVAE'\n",
    "z_dim, beta = 64, 1e-3\n",
    "model = networks.GenVAE3D(z_dim=z_dim, img_size=128, depth=64)\n",
    "model.to(device)\n",
    "# model_path = 'models/betaVAE/VAECE_zdim_{:d}_epoch_100_beta_{:.2E}_alpha.pt'.format(z_dim, beta)\n",
    "model_path = os.path.join(path, 'VAECE_zdim_{:d}_epoch_100_beta_{:.2E}_alpha.pt'.format(z_dim, beta))\n",
    "print(model_path)\n",
    "model.load_state_dict(torch.load(model_path, map_location=device))"
   ]
  },
  {
   "cell_type": "markdown",
   "metadata": {
    "collapsed": false,
    "pycharm": {
     "name": "#%% md\n"
    }
   },
   "source": [
    "### Enhance the segmentation by joint motion correction and super resolution"
   ]
  },
  {
   "cell_type": "code",
   "execution_count": 20,
   "metadata": {
    "collapsed": false,
    "pycharm": {
     "name": "#%%\n"
    }
   },
   "outputs": [
    {
     "name": "stdout",
     "output_type": "stream",
     "text": [
      "torch.Size([1, 13, 128, 128])\n"
     ]
    }
   ],
   "source": [
    "new_D = seg_LR.shape[2]\n",
    "MotionLayer = MotionDegrad(newD=new_D, mode='nearest')\n",
    "MotionLayer.to(device)\n",
    "\n",
    "# LATENT OPTIMISATION\n",
    "z0 = torch.zeros((1, z_dim)).to(device)\n",
    "seg_map = torch.argmax(seg_LR, axis=1)\n",
    "print(seg_map.shape)\n",
    "z_recall = z0.clone().detach().requires_grad_(True)\n",
    "\n",
    "# optimizer for z\n",
    "optimizer1 = optim.Adam([{'params': z_recall}], lr=0.2)\n",
    "scheduler1 = optim.lr_scheduler.StepLR(optimizer1, step_size=100, gamma=0.5)\n",
    "# optimizer for motion\n",
    "optimizer2 = optim.Adam(MotionLayer.parameters(), lr=0.1)\n",
    "scheduler2 = optim.lr_scheduler.StepLR(optimizer2, step_size=100, gamma=0.5)\n",
    "\n",
    "for k in (range(0, 1000)):\n",
    "    # E - step, estimate motion\n",
    "    optimizer2.zero_grad()\n",
    "    recon_x = model.decode(z_recall)\n",
    "    recon_x = MotionLayer(recon_x)\n",
    "    loss = F.cross_entropy(recon_x, seg_map,reduction='mean')\n",
    "    loss.backward()\n",
    "    optimizer2.step()\n",
    "\n",
    "    # M - step, estimate z\n",
    "    optimizer1.zero_grad()\n",
    "    recon_x = model.decode(z_recall)\n",
    "    recon_x = MotionLayer(recon_x)\n",
    "    loss = F.cross_entropy(recon_x, seg_map, reduction='mean')\n",
    "    loss.backward()\n",
    "    optimizer1.step()\n",
    "\n",
    "    scheduler1.step()\n",
    "    scheduler2.step()\n",
    "\n",
    "SR_data = onehot2label(model.decode(z_recall).squeeze().detach().cpu().numpy())"
   ]
  },
  {
   "cell_type": "code",
   "execution_count": 21,
   "metadata": {
    "collapsed": false,
    "pycharm": {
     "name": "#%%\n"
    }
   },
   "outputs": [
    {
     "name": "stdout",
     "output_type": "stream",
     "text": [
      "(64, 128, 128)\n"
     ]
    },
    {
     "data": {
      "image/png": "[encoded data removed]",
      "text/plain": [
       "<Figure size 100x300 with 3 Axes>"
      ]
     },
     "execution_count": 21,
     "metadata": {},
     "output_type": "execute_result"
    },
    {
     "data": {
      "image/png": "[encoded data removed]",
      "text/plain": [
       "<Figure size 100x300 with 3 Axes>"
      ]
     },
     "metadata": {},
     "output_type": "display_data"
    }
   ],
   "source": [
    "print(SR_data.shape)\n",
    "vol3view(SR_data)"
   ]
  },
  {
   "cell_type": "code",
   "execution_count": 22,
   "metadata": {},
   "outputs": [
    {
     "data": {
      "text/plain": [
       "<matplotlib.image.AxesImage at 0x7fcb09cc0a60>"
      ]
     },
     "execution_count": 22,
     "metadata": {},
     "output_type": "execute_result"
    },
    {
     "data": {
      "image/png": "[encoded data removed]",
      "text/plain": [
       "<Figure size 640x480 with 1 Axes>"
      ]
     },
     "metadata": {},
     "output_type": "display_data"
    }
   ],
   "source": [
    "final_result = util.pick_largest(SR_data,[1,2,4])\n",
    "SR_data = np.copy(final_result)\n",
    "plt.imshow(SR_data[32, ...], 'gray', aspect=spacing[2] / spacing[1])"
   ]
  },
  {
   "cell_type": "code",
   "execution_count": 23,
   "metadata": {
    "collapsed": false,
    "pycharm": {
     "name": "#%%\n"
    }
   },
   "outputs": [],
   "source": [
    "### Compare the SR result to Ground-truth HR result\n",
    "\n",
    "HR_data = np.round(HR_data)\n",
    "HR_data = HR_data.astype(int)"
   ]
  },
  {
   "cell_type": "code",
   "execution_count": 24,
   "metadata": {
    "collapsed": false,
    "pycharm": {
     "name": "#%%\n"
    }
   },
   "outputs": [
    {
     "name": "stdout",
     "output_type": "stream",
     "text": [
      "LV DICE: 0.91\n",
      "MYO DICE: 0.80\n",
      "RV DICE: 0.86\n"
     ]
    }
   ],
   "source": [
    "# the translated optimal dice is used because the solution to (SR_seg, d) is not unique\n",
    "# eg. (HR_seg, 0) and (translated HR_seg, d) will result in the same LR seg\n",
    "\n",
    "LV_dice, _ = np_categorical_dice_optim(SR_data, HR_data, k=1)\n",
    "MYO_dice, _ = np_categorical_dice_optim(SR_data, HR_data, k=2)\n",
    "RV_dice, _ = np_categorical_dice_optim(SR_data, HR_data, k=4)\n",
    "print('LV DICE: {:0.2f}\\nMYO DICE: {:0.2f}\\nRV DICE: {:0.2f}'.format(LV_dice, MYO_dice, RV_dice))"
   ]
  },
  {
   "cell_type": "code",
   "execution_count": 25,
   "metadata": {},
   "outputs": [
    {
     "name": "stdout",
     "output_type": "stream",
     "text": [
      "4.007834035445748 3.038510294801648 4.007834035445748\n"
     ]
    },
    {
     "name": "stderr",
     "output_type": "stream",
     "text": [
      "/usr/local/lib/python3.8/dist-packages/scipy/ndimage/measurements.py:1406: RuntimeWarning: invalid value encountered in double_scalars\n",
      "  results = [sum(input * grids[dir].astype(float), labels, index) / normalizer\n"
     ]
    }
   ],
   "source": [
    "# compare contour-to-contour distance\n",
    "SR_ds = np.rollaxis(SR_data,0,3)\n",
    "SR_ds = np.rollaxis(util.downsample_in_z(SR_ds,5,affine=None),2,0)\n",
    "HR_ds = np.rollaxis(HR_data,0,3)\n",
    "HR_ds = np.rollaxis(util.downsample_in_z(HR_ds,5,affine=None),2,0)\n",
    "\n",
    "LR_distance,_,_ = util.c2c(seg_data, [spacing[1],spacing[2]],threshold = 1, large = False)\n",
    "SR_distance,_,_ = util.c2c(SR_ds,[HR_spacing[1],HR_spacing[2]], threshold = 1, large = False)\n",
    "HR_distance,_,_ = util.c2c(HR_ds,[HR_spacing[1],HR_spacing[2]], threshold = 1, large = False)\n",
    "\n",
    "print(LR_distance,SR_distance,HR_distance)"
   ]
  },
  {
   "cell_type": "code",
   "execution_count": 21,
   "metadata": {},
   "outputs": [
    {
     "name": "stdout",
     "output_type": "stream",
     "text": [
      "52 51\n",
      "0.9181515515369364\n"
     ]
    },
    {
     "name": "stderr",
     "output_type": "stream",
     "text": [
      "/usr/local/lib/python3.8/dist-packages/scipy/ndimage/measurements.py:1406: RuntimeWarning: invalid value encountered in double_scalars\n",
      "  results = [sum(input * grids[dir].astype(float), labels, index) / normalizer\n"
     ]
    }
   ],
   "source": [
    "# distance in SR dta\n",
    "centers_SR = []; distance_SR = []\n",
    "for i in range(0,SR_data.shape[0]):\n",
    "    s = SR_data[i,:,:]\n",
    "    center = util.center_of_mass(s,1,large = False)\n",
    "    if math.isnan(center[0]) == 0:\n",
    "        centers_SR.append(center)\n",
    "        if len(centers_SR) > 1:\n",
    "            distance_SR.append(math.sqrt((centers_SR[-1][0] - centers_SR[-2][0])**2 + (centers_SR[-1][1] - centers_SR[-2][1])**2))\n",
    "print(len(centers_SR),len(distance_SR))\n",
    "print(sum(distance_SR) / len(distance_SR))"
   ]
  },
  {
   "cell_type": "code",
   "execution_count": 22,
   "metadata": {},
   "outputs": [
    {
     "name": "stdout",
     "output_type": "stream",
     "text": [
      "46 45\n",
      "0.6540953195773155\n"
     ]
    }
   ],
   "source": [
    "# distance in SR dta\n",
    "centers_SR = []; distance_SR = []\n",
    "for i in range(0,HR_data.shape[0]):\n",
    "    s = HR_data[i,:,:]\n",
    "    center = util.center_of_mass(s,1,large = False)\n",
    "    if math.isnan(center[0]) == 0:\n",
    "        centers_SR.append(center)\n",
    "        if len(centers_SR) > 1:\n",
    "            distance_SR.append(math.sqrt((centers_SR[-1][0] - centers_SR[-2][0])**2 + (centers_SR[-1][1] - centers_SR[-2][1])**2))\n",
    "print(len(centers_SR),len(distance_SR))\n",
    "print(sum(distance_SR) / len(distance_SR))"
   ]
  }
 ],
 "metadata": {
  "kernelspec": {
   "display_name": "Python 3.8.10 64-bit",
   "language": "python",
   "name": "python3"
  },
  "language_info": {
   "codemirror_mode": {
    "name": "ipython",
    "version": 3
   },
   "file_extension": ".py",
   "mimetype": "text/x-python",
   "name": "python",
   "nbconvert_exporter": "python",
   "pygments_lexer": "ipython3",
   "version": "3.8.10"
  },
  "vscode": {
   "interpreter": {
    "hash": "e7370f93d1d0cde622a1f8e1c04877d8463912d04d973331ad4851f04de6915a"
   }
  }
 },
 "nbformat": 4,
 "nbformat_minor": 0
}

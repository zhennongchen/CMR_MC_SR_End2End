{
 "cells": [
  {
   "cell_type": "code",
   "execution_count": 41,
   "metadata": {},
   "outputs": [],
   "source": [
    "import os\n",
    "import numpy as np\n",
    "import nibabel as nb\n",
    "import matplotlib.pyplot as plt\n",
    "import pandas as pd\n",
    "from scipy.ndimage import zoom\n",
    "import CMR_HFpEF_Analysis.Image_utils as util\n",
    "import CMR_HFpEF_Analysis.functions_collection as ff\n",
    "import CMR_HFpEF_Analysis.motion_correction.Bspline as Bspline\n",
    "\n",
    "main_path = '/mnt/mount_zc_NAS/HFpEF/'\n",
    "save_path = os.path.join(main_path, 'pictures/manuscript')"
   ]
  },
  {
   "attachments": {},
   "cell_type": "markdown",
   "metadata": {},
   "source": [
    "# Get slice image"
   ]
  },
  {
   "cell_type": "code",
   "execution_count": 122,
   "metadata": {},
   "outputs": [
    {
     "name": "stdout",
     "output_type": "stream",
     "text": [
      "(128, 12)\n",
      "(128, 90)\n"
     ]
    },
    {
     "data": {
      "image/png": "[encoded data removed]",
      "text/plain": [
       "<Figure size 400x400 with 1 Axes>"
      ]
     },
     "metadata": {},
     "output_type": "display_data"
    }
   ],
   "source": [
    "patient_id = '1256'\n",
    "# filename = os.path.join('/mnt/mount_zc_NAS/HFpEF/data/contour_dataset/processed_HR_data/', patient_id, 'ED/HR_ED_zoomed_crop_flip_clean.nii.gz')\n",
    "filename = os.path.join('/mnt/mount_zc_NAS/HFpEF/data/contour_dataset/simulated_data', patient_id, 'ED/normal_motion_12/data_clean.nii.gz')\n",
    "img_file = nb.load(filename)\n",
    "img = img_file.get_fdata()\n",
    "img= util.relabel(np.round(img).astype(int),4,0)\n",
    "\n",
    "# save slice image\n",
    "ii = np.zeros([128,128])\n",
    "plt.figure(figsize = (4,4))\n",
    "a = img[:, 62, :]\n",
    "print(a.shape)\n",
    "# find which slices are not blank\n",
    "slices = np.where(np.sum(a, axis = 0 ) > 0)[0]\n",
    "\n",
    "# zoom\n",
    "zoom_factor = 10 # 2.2 for HR, 10 for LR\n",
    "a = zoom(a[:, slices[0] : slices[-1] + 1], [1,zoom_factor], order = 0)  \n",
    "print(a.shape)\n",
    "\n",
    "ii[:, slices[0]* int(zoom_factor) : slices[0]*int(zoom_factor)+ a.shape[-1]] = a\n",
    "a = np.copy(ii.T)\n",
    "a = util.move_heart_center_to_image_center(a, threshold = 0, large = True)\n",
    "\n",
    "plt.imshow(a, 'gray')\n",
    "frame1 = plt.gca()\n",
    "frame1.axes.get_xaxis().set_visible(False)\n",
    "frame1.axes.get_yaxis().set_visible(False)\n",
    "plt.gca().set_axis_off()\n",
    "plt.subplots_adjust(top = 1, bottom = 0, right = 1, left = 0, hspace = 0, wspace = 0)\n",
    "plt.margins(0,0)\n",
    "plt.gca().xaxis.set_major_locator(plt.NullLocator())\n",
    "plt.gca().yaxis.set_major_locator(plt.NullLocator())\n",
    "plt.savefig(os.path.join(save_path, patient_id,'LR_motion_12_slice_62.eps'), format='eps', bbox_inches='tight', pad_inches = 0)\n"
   ]
  },
  {
   "cell_type": "markdown",
   "metadata": {},
   "source": [
    "# AI examples"
   ]
  },
  {
   "cell_type": "code",
   "execution_count": 30,
   "metadata": {},
   "outputs": [],
   "source": [
    "patient_id = '1081'\n",
    "filename = os.path.join(save_path, patient_id, 'LR_gt.nii.gz')\n",
    "img_file1 = nb.load(filename)\n",
    "img1 = img_file1.get_fdata()\n",
    "img1 = util.relabel(np.round(img1).astype(int),4,0)"
   ]
  },
  {
   "cell_type": "code",
   "execution_count": 36,
   "metadata": {},
   "outputs": [
    {
     "name": "stdout",
     "output_type": "stream",
     "text": [
      "(128, 12)\n",
      "(128, 100)\n"
     ]
    },
    {
     "data": {
      "image/png": "[encoded data removed]",
      "text/plain": [
       "<Figure size 400x400 with 1 Axes>"
      ]
     },
     "metadata": {},
     "output_type": "display_data"
    }
   ],
   "source": [
    "patient_id = '1081'\n",
    "filename = os.path.join(save_path, patient_id, 'model_input.nii.gz')\n",
    "img_file = nb.load(filename)\n",
    "img = img_file.get_fdata()\n",
    "img= util.relabel(np.round(img).astype(int),4,0)\n",
    "img[:,:,-1] = img1[:,:,-1]\n",
    "\n",
    "# save slice image\n",
    "ii = np.zeros([128,128])\n",
    "plt.figure(figsize = (4,4))\n",
    "a = img[:, 60, :]\n",
    "print(a.shape)\n",
    "# find which slices are not blank\n",
    "slices = np.where(np.sum(a, axis = 0 ) > 0)[0]\n",
    "\n",
    "# zoom\n",
    "zoom_factor = 10 # 2.2 for HR, 10 for LR\n",
    "a = zoom(a[:, slices[0] : slices[-1] + 1], [1,zoom_factor], order = 0)  \n",
    "print(a.shape)\n",
    "\n",
    "ii[:, slices[0]* int(zoom_factor) : slices[0]*int(zoom_factor)+ a.shape[-1]] = a\n",
    "a = np.copy(ii.T)\n",
    "a = util.move_heart_center_to_image_center(a, threshold = 0, large = True)\n",
    "\n",
    "plt.imshow(a, 'gray')\n",
    "frame1 = plt.gca()\n",
    "frame1.axes.get_xaxis().set_visible(False)\n",
    "frame1.axes.get_yaxis().set_visible(False)\n",
    "plt.gca().set_axis_off()\n",
    "plt.subplots_adjust(top = 1, bottom = 0, right = 1, left = 0, hspace = 0, wspace = 0)\n",
    "plt.margins(0,0)\n",
    "plt.gca().xaxis.set_major_locator(plt.NullLocator())\n",
    "plt.gca().yaxis.set_major_locator(plt.NullLocator())\n",
    "plt.savefig(os.path.join(save_path, patient_id,'model_input_slice_60.eps'), format='eps', bbox_inches='tight', pad_inches = 0)\n"
   ]
  },
  {
   "cell_type": "markdown",
   "metadata": {},
   "source": [
    "# SunnyBrook LAX"
   ]
  },
  {
   "cell_type": "code",
   "execution_count": 42,
   "metadata": {},
   "outputs": [],
   "source": [
    "process_info = pd.read_excel(os.path.join(main_path, 'data/Sunny_Brooks', 'Sunny_Brooks_processing.xlsx'))\n",
    "patient_id = 'SC-HYP-07'\n",
    "results = np.load(os.path.join(main_path, 'predict/Sunny_Brooks/solution_4', patient_id, 'LAX_dice.npy'), allow_pickle = True)\n",
    "# solution_4,pred_img_HR_3 vs. 4CH"
   ]
  },
  {
   "cell_type": "code",
   "execution_count": 46,
   "metadata": {},
   "outputs": [
    {
     "name": "stdout",
     "output_type": "stream",
     "text": [
      "(256, 256, 45)\n"
     ]
    }
   ],
   "source": [
    "# load prediction\n",
    "pred_file = nb.load(os.path.join(main_path, 'predict/Sunny_Brooks/solution_4', patient_id, 'pred_img_HR_3.nii.gz'))\n",
    "sax_data = pred_file.get_fdata()\n",
    "sax_affine = nb.load(os.path.join(main_path, 'data/Sunny_Brooks/sunnybrooks_nii', patient_id, 'SAX_ED_endo.nii.gz')).affine\n",
    "# process the prediction\n",
    "row = process_info.loc[process_info['patient_id'] == patient_id]\n",
    "sax_data = sax_data[:,:, row['start_index'].values[0] * 5 : row['end_index'].values[0] * 5]\n",
    "sax_data = np.flip(sax_data, axis = 2)\n",
    "sax_data = util.crop_or_pad(sax_data, (256,256,sax_data.shape[2]))\n",
    "print(sax_data.shape)\n",
    "\n",
    "# new sax affine\n",
    "scale = [1,1, 1 / 5]\n",
    "S = np.diag([scale[0], scale[1], scale[2], 1])\n",
    "sax_affine_new = np.matmul(sax_affine, S)\n",
    "\n"
   ]
  },
  {
   "cell_type": "code",
   "execution_count": 51,
   "metadata": {},
   "outputs": [
    {
     "name": "stdout",
     "output_type": "stream",
     "text": [
      "1\n"
     ]
    }
   ],
   "source": [
    "# load LAX\n",
    "names = ['LAX_2CH', 'LAX_3CH', 'LAX_4CH']\n",
    "ii = 2\n",
    "lax_epi_seg = nb.load(os.path.join(main_path, 'data/Sunny_Brooks/sunnybrooks_nii', patient_id, names[ii] + '_ED_epi.nii.gz')).get_fdata()\n",
    "if len(lax_epi_seg.shape) == 4:\n",
    "    lax_epi_seg = lax_epi_seg[:,:,0,:]\n",
    "lax_epi_seg[lax_epi_seg > 0] = 1\n",
    "\n",
    "lax_endo_seg = nb.load(os.path.join(main_path, 'data/Sunny_Brooks/sunnybrooks_nii', patient_id, names[ii] + '_ED_endo.nii.gz')).get_fdata()\n",
    "if len(lax_endo_seg.shape) == 4:\n",
    "    lax_endo_seg = lax_endo_seg[:,:,0,:]\n",
    "lax_endo_seg[lax_endo_seg > 0] = 1\n",
    "\n",
    "# lax contours:\n",
    "lax_contour = np.copy(lax_epi_seg)\n",
    "lax_contour[lax_contour> 0] = 2\n",
    "lax_contour[lax_endo_seg > 0] = 1\n",
    "\n",
    "lax_slice_num = np.where(np.sum(lax_contour, axis = (0,1)) > 0)[0][0]\n",
    "print(lax_slice_num)"
   ]
  },
  {
   "cell_type": "code",
   "execution_count": 54,
   "metadata": {},
   "outputs": [
    {
     "name": "stdout",
     "output_type": "stream",
     "text": [
      "(256, 256)\n"
     ]
    }
   ],
   "source": [
    "# reslice sax_data\n",
    "X, Y, Z = np.meshgrid(np.arange(lax_contour.shape[0]), np.arange(lax_contour.shape[1]), np.arange(lax_slice_num, lax_slice_num+1))\n",
    "grid_points = np.column_stack((X.flatten(), Y.flatten(), Z.flatten()))\n",
    "converted_LAX_pts = ff.coordinate_convert(grid_points, sax_affine_new, nb.load(os.path.join(main_path, 'data/Sunny_Brooks/sunnybrooks_nii', patient_id, names[ii] + '_ED.nii.gz')).affine)\n",
    "\n",
    "interpolation = ff.define_interpolation(sax_data, Fill_value=0, Method='nearest')\n",
    "reslice = interpolation(converted_LAX_pts).reshape([lax_contour.shape[0], lax_contour.shape[1]]).T"
   ]
  },
  {
   "cell_type": "code",
   "execution_count": null,
   "metadata": {},
   "outputs": [],
   "source": [
    "# find out the contour points\n"
   ]
  },
  {
   "cell_type": "code",
   "execution_count": 55,
   "metadata": {},
   "outputs": [
    {
     "data": {
      "text/plain": [
       "<matplotlib.image.AxesImage at 0x7f9c53eae580>"
      ]
     },
     "execution_count": 55,
     "metadata": {},
     "output_type": "execute_result"
    },
    {
     "data": {
      "image/png": "[encoded data removed]",
      "text/plain": [
       "<Figure size 600x300 with 2 Axes>"
      ]
     },
     "metadata": {},
     "output_type": "display_data"
    }
   ],
   "source": [
    "plt.figure(figsize = (6,3))\n",
    "plt.subplot(121); plt.imshow(lax_contour[:,:,lax_slice_num], 'gray')\n",
    "plt.subplot(122); plt.imshow(reslice, 'gray')"
   ]
  },
  {
   "cell_type": "code",
   "execution_count": null,
   "metadata": {},
   "outputs": [],
   "source": []
  }
 ],
 "metadata": {
  "kernelspec": {
   "display_name": "Python 3",
   "language": "python",
   "name": "python3"
  },
  "language_info": {
   "codemirror_mode": {
    "name": "ipython",
    "version": 3
   },
   "file_extension": ".py",
   "mimetype": "text/x-python",
   "name": "python",
   "nbconvert_exporter": "python",
   "pygments_lexer": "ipython3",
   "version": "3.8.10"
  },
  "orig_nbformat": 4,
  "vscode": {
   "interpreter": {
    "hash": "5b3ded1ccb95c1d9bd405e7b823d9e85424cde40fbb5985eb47e999ef50e15b4"
   }
  }
 },
 "nbformat": 4,
 "nbformat_minor": 2
}

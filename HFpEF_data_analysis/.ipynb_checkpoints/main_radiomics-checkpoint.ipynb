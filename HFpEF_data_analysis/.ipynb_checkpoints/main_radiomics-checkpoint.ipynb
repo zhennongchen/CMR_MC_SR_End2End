{
 "cells": [
  {
   "cell_type": "markdown",
   "metadata": {},
   "source": [
    "need numpy==1.21.0, pyradiomics==3.0.1,  \"docker exec -it -u 0 NAME bash\""
   ]
  },
  {
   "cell_type": "code",
   "execution_count": 1,
   "metadata": {},
   "outputs": [],
   "source": [
    "import radiomics\n",
    "import CMR_HFpEF_Analysis.functions_collection as ff\n",
    "import CMR_HFpEF_Analysis.Image_utils as util\n",
    "\n",
    "import os\n",
    "import numpy as np\n",
    "import nibabel as nb\n",
    "import matplotlib.pyplot as plt\n",
    "import SimpleITK as sitk\n",
    "import pandas as pd\n",
    "import re\n",
    "\n",
    "main_path = '/mnt/mount_zc_NAS/HFpEF/data/HFpEF_data/'"
   ]
  },
  {
   "cell_type": "code",
   "execution_count": 13,
   "metadata": {},
   "outputs": [],
   "source": [
    "readmission_sheet = pd.read_excel(os.path.join(main_path, 'Patient_list/full_list.xlsx'))"
   ]
  },
  {
   "cell_type": "markdown",
   "metadata": {},
   "source": [
    "# Radiomics extractor"
   ]
  },
  {
   "cell_type": "code",
   "execution_count": 15,
   "metadata": {},
   "outputs": [
    {
     "name": "stdout",
     "output_type": "stream",
     "text": [
      "0 ID_0011 11\n"
     ]
    },
    {
     "name": "stderr",
     "output_type": "stream",
     "text": [
      "GLCM is symmetrical, therefore Sum Average = 2 * Joint Average, only 1 needs to be calculated\n",
      "GLCM is symmetrical, therefore Sum Average = 2 * Joint Average, only 1 needs to be calculated\n"
     ]
    },
    {
     "name": "stdout",
     "output_type": "stream",
     "text": [
      "1 ID_0128 128\n"
     ]
    },
    {
     "name": "stderr",
     "output_type": "stream",
     "text": [
      "GLCM is symmetrical, therefore Sum Average = 2 * Joint Average, only 1 needs to be calculated\n",
      "GLCM is symmetrical, therefore Sum Average = 2 * Joint Average, only 1 needs to be calculated\n"
     ]
    },
    {
     "name": "stdout",
     "output_type": "stream",
     "text": [
      "2 ID_0131 131\n"
     ]
    },
    {
     "name": "stderr",
     "output_type": "stream",
     "text": [
      "GLCM is symmetrical, therefore Sum Average = 2 * Joint Average, only 1 needs to be calculated\n",
      "GLCM is symmetrical, therefore Sum Average = 2 * Joint Average, only 1 needs to be calculated\n"
     ]
    },
    {
     "name": "stdout",
     "output_type": "stream",
     "text": [
      "3 ID_0151 151\n"
     ]
    },
    {
     "name": "stderr",
     "output_type": "stream",
     "text": [
      "GLCM is symmetrical, therefore Sum Average = 2 * Joint Average, only 1 needs to be calculated\n",
      "GLCM is symmetrical, therefore Sum Average = 2 * Joint Average, only 1 needs to be calculated\n"
     ]
    },
    {
     "name": "stdout",
     "output_type": "stream",
     "text": [
      "4 ID_0175 175\n"
     ]
    },
    {
     "name": "stderr",
     "output_type": "stream",
     "text": [
      "GLCM is symmetrical, therefore Sum Average = 2 * Joint Average, only 1 needs to be calculated\n",
      "GLCM is symmetrical, therefore Sum Average = 2 * Joint Average, only 1 needs to be calculated\n"
     ]
    },
    {
     "name": "stdout",
     "output_type": "stream",
     "text": [
      "5 ID_0198 198\n"
     ]
    },
    {
     "name": "stderr",
     "output_type": "stream",
     "text": [
      "GLCM is symmetrical, therefore Sum Average = 2 * Joint Average, only 1 needs to be calculated\n",
      "GLCM is symmetrical, therefore Sum Average = 2 * Joint Average, only 1 needs to be calculated\n"
     ]
    },
    {
     "name": "stdout",
     "output_type": "stream",
     "text": [
      "6 ID_0212 212\n"
     ]
    },
    {
     "name": "stderr",
     "output_type": "stream",
     "text": [
      "GLCM is symmetrical, therefore Sum Average = 2 * Joint Average, only 1 needs to be calculated\n",
      "GLCM is symmetrical, therefore Sum Average = 2 * Joint Average, only 1 needs to be calculated\n"
     ]
    },
    {
     "name": "stdout",
     "output_type": "stream",
     "text": [
      "7 ID_0227 227\n"
     ]
    },
    {
     "name": "stderr",
     "output_type": "stream",
     "text": [
      "GLCM is symmetrical, therefore Sum Average = 2 * Joint Average, only 1 needs to be calculated\n",
      "GLCM is symmetrical, therefore Sum Average = 2 * Joint Average, only 1 needs to be calculated\n"
     ]
    },
    {
     "name": "stdout",
     "output_type": "stream",
     "text": [
      "8 ID_0252 252\n"
     ]
    },
    {
     "name": "stderr",
     "output_type": "stream",
     "text": [
      "GLCM is symmetrical, therefore Sum Average = 2 * Joint Average, only 1 needs to be calculated\n",
      "GLCM is symmetrical, therefore Sum Average = 2 * Joint Average, only 1 needs to be calculated\n"
     ]
    },
    {
     "name": "stdout",
     "output_type": "stream",
     "text": [
      "9 ID_0258 258\n"
     ]
    },
    {
     "name": "stderr",
     "output_type": "stream",
     "text": [
      "GLCM is symmetrical, therefore Sum Average = 2 * Joint Average, only 1 needs to be calculated\n",
      "GLCM is symmetrical, therefore Sum Average = 2 * Joint Average, only 1 needs to be calculated\n"
     ]
    },
    {
     "name": "stdout",
     "output_type": "stream",
     "text": [
      "10 ID_0267 267\n"
     ]
    },
    {
     "name": "stderr",
     "output_type": "stream",
     "text": [
      "GLCM is symmetrical, therefore Sum Average = 2 * Joint Average, only 1 needs to be calculated\n",
      "GLCM is symmetrical, therefore Sum Average = 2 * Joint Average, only 1 needs to be calculated\n"
     ]
    },
    {
     "name": "stdout",
     "output_type": "stream",
     "text": [
      "11 ID_0331 331\n"
     ]
    },
    {
     "name": "stderr",
     "output_type": "stream",
     "text": [
      "GLCM is symmetrical, therefore Sum Average = 2 * Joint Average, only 1 needs to be calculated\n",
      "GLCM is symmetrical, therefore Sum Average = 2 * Joint Average, only 1 needs to be calculated\n"
     ]
    },
    {
     "name": "stdout",
     "output_type": "stream",
     "text": [
      "12 ID_0354 354\n"
     ]
    },
    {
     "name": "stderr",
     "output_type": "stream",
     "text": [
      "GLCM is symmetrical, therefore Sum Average = 2 * Joint Average, only 1 needs to be calculated\n",
      "GLCM is symmetrical, therefore Sum Average = 2 * Joint Average, only 1 needs to be calculated\n"
     ]
    },
    {
     "name": "stdout",
     "output_type": "stream",
     "text": [
      "13 ID_0360 360\n"
     ]
    },
    {
     "name": "stderr",
     "output_type": "stream",
     "text": [
      "GLCM is symmetrical, therefore Sum Average = 2 * Joint Average, only 1 needs to be calculated\n",
      "GLCM is symmetrical, therefore Sum Average = 2 * Joint Average, only 1 needs to be calculated\n"
     ]
    },
    {
     "name": "stdout",
     "output_type": "stream",
     "text": [
      "14 ID_0406 406\n"
     ]
    },
    {
     "name": "stderr",
     "output_type": "stream",
     "text": [
      "GLCM is symmetrical, therefore Sum Average = 2 * Joint Average, only 1 needs to be calculated\n",
      "GLCM is symmetrical, therefore Sum Average = 2 * Joint Average, only 1 needs to be calculated\n"
     ]
    },
    {
     "name": "stdout",
     "output_type": "stream",
     "text": [
      "15 ID_0417 417\n"
     ]
    },
    {
     "name": "stderr",
     "output_type": "stream",
     "text": [
      "GLCM is symmetrical, therefore Sum Average = 2 * Joint Average, only 1 needs to be calculated\n",
      "GLCM is symmetrical, therefore Sum Average = 2 * Joint Average, only 1 needs to be calculated\n"
     ]
    },
    {
     "name": "stdout",
     "output_type": "stream",
     "text": [
      "16 ID_0540 540\n"
     ]
    },
    {
     "name": "stderr",
     "output_type": "stream",
     "text": [
      "GLCM is symmetrical, therefore Sum Average = 2 * Joint Average, only 1 needs to be calculated\n",
      "GLCM is symmetrical, therefore Sum Average = 2 * Joint Average, only 1 needs to be calculated\n"
     ]
    },
    {
     "name": "stdout",
     "output_type": "stream",
     "text": [
      "17 ID_0550 550\n"
     ]
    },
    {
     "name": "stderr",
     "output_type": "stream",
     "text": [
      "GLCM is symmetrical, therefore Sum Average = 2 * Joint Average, only 1 needs to be calculated\n",
      "GLCM is symmetrical, therefore Sum Average = 2 * Joint Average, only 1 needs to be calculated\n"
     ]
    },
    {
     "name": "stdout",
     "output_type": "stream",
     "text": [
      "18 ID_0554 554\n"
     ]
    },
    {
     "name": "stderr",
     "output_type": "stream",
     "text": [
      "GLCM is symmetrical, therefore Sum Average = 2 * Joint Average, only 1 needs to be calculated\n",
      "GLCM is symmetrical, therefore Sum Average = 2 * Joint Average, only 1 needs to be calculated\n"
     ]
    },
    {
     "name": "stdout",
     "output_type": "stream",
     "text": [
      "19 ID_0566 566\n"
     ]
    },
    {
     "name": "stderr",
     "output_type": "stream",
     "text": [
      "GLCM is symmetrical, therefore Sum Average = 2 * Joint Average, only 1 needs to be calculated\n",
      "GLCM is symmetrical, therefore Sum Average = 2 * Joint Average, only 1 needs to be calculated\n"
     ]
    },
    {
     "name": "stdout",
     "output_type": "stream",
     "text": [
      "20 ID_0571 571\n"
     ]
    },
    {
     "name": "stderr",
     "output_type": "stream",
     "text": [
      "GLCM is symmetrical, therefore Sum Average = 2 * Joint Average, only 1 needs to be calculated\n",
      "GLCM is symmetrical, therefore Sum Average = 2 * Joint Average, only 1 needs to be calculated\n"
     ]
    },
    {
     "name": "stdout",
     "output_type": "stream",
     "text": [
      "21 ID_0576 576\n"
     ]
    },
    {
     "name": "stderr",
     "output_type": "stream",
     "text": [
      "GLCM is symmetrical, therefore Sum Average = 2 * Joint Average, only 1 needs to be calculated\n",
      "GLCM is symmetrical, therefore Sum Average = 2 * Joint Average, only 1 needs to be calculated\n"
     ]
    },
    {
     "name": "stdout",
     "output_type": "stream",
     "text": [
      "22 ID_0581 581\n"
     ]
    },
    {
     "name": "stderr",
     "output_type": "stream",
     "text": [
      "GLCM is symmetrical, therefore Sum Average = 2 * Joint Average, only 1 needs to be calculated\n",
      "GLCM is symmetrical, therefore Sum Average = 2 * Joint Average, only 1 needs to be calculated\n"
     ]
    },
    {
     "name": "stdout",
     "output_type": "stream",
     "text": [
      "23 ID_0585 585\n"
     ]
    },
    {
     "name": "stderr",
     "output_type": "stream",
     "text": [
      "GLCM is symmetrical, therefore Sum Average = 2 * Joint Average, only 1 needs to be calculated\n",
      "GLCM is symmetrical, therefore Sum Average = 2 * Joint Average, only 1 needs to be calculated\n"
     ]
    },
    {
     "name": "stdout",
     "output_type": "stream",
     "text": [
      "24 ID_0586 586\n"
     ]
    },
    {
     "name": "stderr",
     "output_type": "stream",
     "text": [
      "GLCM is symmetrical, therefore Sum Average = 2 * Joint Average, only 1 needs to be calculated\n",
      "GLCM is symmetrical, therefore Sum Average = 2 * Joint Average, only 1 needs to be calculated\n"
     ]
    },
    {
     "name": "stdout",
     "output_type": "stream",
     "text": [
      "25 ID_0590 590\n"
     ]
    },
    {
     "name": "stderr",
     "output_type": "stream",
     "text": [
      "GLCM is symmetrical, therefore Sum Average = 2 * Joint Average, only 1 needs to be calculated\n",
      "GLCM is symmetrical, therefore Sum Average = 2 * Joint Average, only 1 needs to be calculated\n"
     ]
    },
    {
     "name": "stdout",
     "output_type": "stream",
     "text": [
      "26 ID_0635 635\n"
     ]
    },
    {
     "name": "stderr",
     "output_type": "stream",
     "text": [
      "GLCM is symmetrical, therefore Sum Average = 2 * Joint Average, only 1 needs to be calculated\n",
      "GLCM is symmetrical, therefore Sum Average = 2 * Joint Average, only 1 needs to be calculated\n"
     ]
    },
    {
     "name": "stdout",
     "output_type": "stream",
     "text": [
      "27 ID_0636 636\n"
     ]
    },
    {
     "name": "stderr",
     "output_type": "stream",
     "text": [
      "GLCM is symmetrical, therefore Sum Average = 2 * Joint Average, only 1 needs to be calculated\n",
      "GLCM is symmetrical, therefore Sum Average = 2 * Joint Average, only 1 needs to be calculated\n"
     ]
    },
    {
     "name": "stdout",
     "output_type": "stream",
     "text": [
      "28 ID_0638 638\n"
     ]
    },
    {
     "name": "stderr",
     "output_type": "stream",
     "text": [
      "GLCM is symmetrical, therefore Sum Average = 2 * Joint Average, only 1 needs to be calculated\n",
      "GLCM is symmetrical, therefore Sum Average = 2 * Joint Average, only 1 needs to be calculated\n"
     ]
    },
    {
     "name": "stdout",
     "output_type": "stream",
     "text": [
      "29 ID_0709 709\n"
     ]
    },
    {
     "name": "stderr",
     "output_type": "stream",
     "text": [
      "GLCM is symmetrical, therefore Sum Average = 2 * Joint Average, only 1 needs to be calculated\n",
      "GLCM is symmetrical, therefore Sum Average = 2 * Joint Average, only 1 needs to be calculated\n"
     ]
    },
    {
     "name": "stdout",
     "output_type": "stream",
     "text": [
      "30 ID_0718 718\n"
     ]
    },
    {
     "name": "stderr",
     "output_type": "stream",
     "text": [
      "GLCM is symmetrical, therefore Sum Average = 2 * Joint Average, only 1 needs to be calculated\n",
      "GLCM is symmetrical, therefore Sum Average = 2 * Joint Average, only 1 needs to be calculated\n"
     ]
    },
    {
     "name": "stdout",
     "output_type": "stream",
     "text": [
      "31 ID_0730 730\n"
     ]
    },
    {
     "name": "stderr",
     "output_type": "stream",
     "text": [
      "GLCM is symmetrical, therefore Sum Average = 2 * Joint Average, only 1 needs to be calculated\n",
      "GLCM is symmetrical, therefore Sum Average = 2 * Joint Average, only 1 needs to be calculated\n"
     ]
    },
    {
     "name": "stdout",
     "output_type": "stream",
     "text": [
      "32 ID_0762 762\n"
     ]
    },
    {
     "name": "stderr",
     "output_type": "stream",
     "text": [
      "GLCM is symmetrical, therefore Sum Average = 2 * Joint Average, only 1 needs to be calculated\n",
      "GLCM is symmetrical, therefore Sum Average = 2 * Joint Average, only 1 needs to be calculated\n"
     ]
    },
    {
     "name": "stdout",
     "output_type": "stream",
     "text": [
      "33 ID_0865 865\n"
     ]
    },
    {
     "name": "stderr",
     "output_type": "stream",
     "text": [
      "GLCM is symmetrical, therefore Sum Average = 2 * Joint Average, only 1 needs to be calculated\n",
      "GLCM is symmetrical, therefore Sum Average = 2 * Joint Average, only 1 needs to be calculated\n"
     ]
    },
    {
     "name": "stdout",
     "output_type": "stream",
     "text": [
      "34 ID_0871 871\n"
     ]
    },
    {
     "name": "stderr",
     "output_type": "stream",
     "text": [
      "GLCM is symmetrical, therefore Sum Average = 2 * Joint Average, only 1 needs to be calculated\n",
      "GLCM is symmetrical, therefore Sum Average = 2 * Joint Average, only 1 needs to be calculated\n"
     ]
    },
    {
     "name": "stdout",
     "output_type": "stream",
     "text": [
      "35 ID_0915 915\n"
     ]
    },
    {
     "name": "stderr",
     "output_type": "stream",
     "text": [
      "GLCM is symmetrical, therefore Sum Average = 2 * Joint Average, only 1 needs to be calculated\n",
      "GLCM is symmetrical, therefore Sum Average = 2 * Joint Average, only 1 needs to be calculated\n"
     ]
    },
    {
     "name": "stdout",
     "output_type": "stream",
     "text": [
      "36 ID_0969 969\n"
     ]
    },
    {
     "name": "stderr",
     "output_type": "stream",
     "text": [
      "GLCM is symmetrical, therefore Sum Average = 2 * Joint Average, only 1 needs to be calculated\n",
      "GLCM is symmetrical, therefore Sum Average = 2 * Joint Average, only 1 needs to be calculated\n"
     ]
    },
    {
     "name": "stdout",
     "output_type": "stream",
     "text": [
      "37 ID_0977 977\n"
     ]
    },
    {
     "name": "stderr",
     "output_type": "stream",
     "text": [
      "GLCM is symmetrical, therefore Sum Average = 2 * Joint Average, only 1 needs to be calculated\n",
      "GLCM is symmetrical, therefore Sum Average = 2 * Joint Average, only 1 needs to be calculated\n"
     ]
    },
    {
     "name": "stdout",
     "output_type": "stream",
     "text": [
      "38 ID_0980 980\n"
     ]
    },
    {
     "name": "stderr",
     "output_type": "stream",
     "text": [
      "GLCM is symmetrical, therefore Sum Average = 2 * Joint Average, only 1 needs to be calculated\n",
      "GLCM is symmetrical, therefore Sum Average = 2 * Joint Average, only 1 needs to be calculated\n"
     ]
    },
    {
     "name": "stdout",
     "output_type": "stream",
     "text": [
      "39 ID_0984 984\n"
     ]
    },
    {
     "name": "stderr",
     "output_type": "stream",
     "text": [
      "GLCM is symmetrical, therefore Sum Average = 2 * Joint Average, only 1 needs to be calculated\n",
      "GLCM is symmetrical, therefore Sum Average = 2 * Joint Average, only 1 needs to be calculated\n"
     ]
    },
    {
     "name": "stdout",
     "output_type": "stream",
     "text": [
      "40 ID_1013 1013\n"
     ]
    },
    {
     "name": "stderr",
     "output_type": "stream",
     "text": [
      "GLCM is symmetrical, therefore Sum Average = 2 * Joint Average, only 1 needs to be calculated\n",
      "GLCM is symmetrical, therefore Sum Average = 2 * Joint Average, only 1 needs to be calculated\n"
     ]
    },
    {
     "name": "stdout",
     "output_type": "stream",
     "text": [
      "41 ID_1037 1037\n"
     ]
    },
    {
     "name": "stderr",
     "output_type": "stream",
     "text": [
      "GLCM is symmetrical, therefore Sum Average = 2 * Joint Average, only 1 needs to be calculated\n",
      "GLCM is symmetrical, therefore Sum Average = 2 * Joint Average, only 1 needs to be calculated\n"
     ]
    },
    {
     "name": "stdout",
     "output_type": "stream",
     "text": [
      "42 ID_1054 1054\n"
     ]
    },
    {
     "name": "stderr",
     "output_type": "stream",
     "text": [
      "GLCM is symmetrical, therefore Sum Average = 2 * Joint Average, only 1 needs to be calculated\n",
      "GLCM is symmetrical, therefore Sum Average = 2 * Joint Average, only 1 needs to be calculated\n"
     ]
    },
    {
     "name": "stdout",
     "output_type": "stream",
     "text": [
      "43 ID_1055 1055\n"
     ]
    },
    {
     "name": "stderr",
     "output_type": "stream",
     "text": [
      "GLCM is symmetrical, therefore Sum Average = 2 * Joint Average, only 1 needs to be calculated\n",
      "GLCM is symmetrical, therefore Sum Average = 2 * Joint Average, only 1 needs to be calculated\n"
     ]
    },
    {
     "name": "stdout",
     "output_type": "stream",
     "text": [
      "44 ID_1075 1075\n"
     ]
    },
    {
     "name": "stderr",
     "output_type": "stream",
     "text": [
      "GLCM is symmetrical, therefore Sum Average = 2 * Joint Average, only 1 needs to be calculated\n",
      "GLCM is symmetrical, therefore Sum Average = 2 * Joint Average, only 1 needs to be calculated\n"
     ]
    },
    {
     "name": "stdout",
     "output_type": "stream",
     "text": [
      "45 ID_1077 1077\n"
     ]
    },
    {
     "name": "stderr",
     "output_type": "stream",
     "text": [
      "GLCM is symmetrical, therefore Sum Average = 2 * Joint Average, only 1 needs to be calculated\n",
      "GLCM is symmetrical, therefore Sum Average = 2 * Joint Average, only 1 needs to be calculated\n"
     ]
    },
    {
     "name": "stdout",
     "output_type": "stream",
     "text": [
      "46 ID_1286 1286\n"
     ]
    },
    {
     "name": "stderr",
     "output_type": "stream",
     "text": [
      "GLCM is symmetrical, therefore Sum Average = 2 * Joint Average, only 1 needs to be calculated\n",
      "GLCM is symmetrical, therefore Sum Average = 2 * Joint Average, only 1 needs to be calculated\n"
     ]
    },
    {
     "name": "stdout",
     "output_type": "stream",
     "text": [
      "47 ID_1321 1321\n"
     ]
    },
    {
     "name": "stderr",
     "output_type": "stream",
     "text": [
      "GLCM is symmetrical, therefore Sum Average = 2 * Joint Average, only 1 needs to be calculated\n",
      "GLCM is symmetrical, therefore Sum Average = 2 * Joint Average, only 1 needs to be calculated\n"
     ]
    },
    {
     "name": "stdout",
     "output_type": "stream",
     "text": [
      "48 ID_1344 1344\n"
     ]
    },
    {
     "name": "stderr",
     "output_type": "stream",
     "text": [
      "GLCM is symmetrical, therefore Sum Average = 2 * Joint Average, only 1 needs to be calculated\n",
      "GLCM is symmetrical, therefore Sum Average = 2 * Joint Average, only 1 needs to be calculated\n"
     ]
    },
    {
     "name": "stdout",
     "output_type": "stream",
     "text": [
      "49 ID_1388 1388\n"
     ]
    },
    {
     "name": "stderr",
     "output_type": "stream",
     "text": [
      "GLCM is symmetrical, therefore Sum Average = 2 * Joint Average, only 1 needs to be calculated\n",
      "GLCM is symmetrical, therefore Sum Average = 2 * Joint Average, only 1 needs to be calculated\n"
     ]
    }
   ],
   "source": [
    "Results = []\n",
    "case_list = ff.find_all_target_files(['ID_*'], os.path.join(main_path, 'masks'))\n",
    "\n",
    "for i in range(0, len(case_list)):\n",
    "    case = case_list[i]\n",
    "    case_id = os.path.basename(case)\n",
    "    case_id_short = ff.ID_00XX_to_XX(case_id)\n",
    "    print(i,case_id, case_id_short)\n",
    "\n",
    "    # get radiomics\n",
    "\n",
    "    params = {\n",
    "        'binWidth': int(255 / 25),\n",
    "        'resampledPixelSpacing': None,\n",
    "        'interpolator': sitk.sitkBSpline,\n",
    "        # Specify other parameters as needed\n",
    "    }\n",
    "    extractor = radiomics.featureextractor.RadiomicsFeatureExtractor(**params)\n",
    "    # extractor.disableAllFeatures()\n",
    "    # extractor.enableFeatureClassByName('shape')\n",
    "\n",
    "    lv_features = extractor.execute(os.path.join(case,'img.nii.gz' ), os.path.join(case,'mask_lv.nii.gz' ))\n",
    "    myo_features = extractor.execute(os.path.join(case,'img.nii.gz' ), os.path.join(case,'mask_myo.nii.gz' ))\n",
    "\n",
    "    # save these features\n",
    "    feature_values = []\n",
    "    feature_names = []\n",
    "    for feature_name, feature_value in lv_features.items():\n",
    "        # if 'original_shape' in feature_name:\n",
    "        #     feature_names.append('LV_' + feature_name[feature_name.find('shape') + len('shape')+1 :])\n",
    "        feature_names.append('LV_' + feature_name)\n",
    "        if isinstance(feature_value, np.ndarray) == 1:\n",
    "            feature_value = feature_value.item()\n",
    "        feature_values.append(feature_value)\n",
    "            \n",
    "\n",
    "    for feature_name, feature_value in myo_features.items():\n",
    "        # if 'original_shape' in feature_name:\n",
    "        #     feature_names.append('MYO_' + feature_name[feature_name.find('shape') + len('shape')+1 :])\n",
    "        feature_names.append('MYO_' + feature_name)\n",
    "        if isinstance(feature_value, np.ndarray) == 1:\n",
    "            feature_value = feature_value.item()\n",
    "        feature_values.append(feature_value)\n",
    "\n",
    "    # Get readmission\n",
    "    a = readmission_sheet[(readmission_sheet['OurID'] == int(case_id_short)) & (~readmission_sheet['Contour'].isna())]\n",
    "\n",
    "    assert a.shape[0] == 1\n",
    "\n",
    "    readm = int(a['Readmission'])\n",
    "\n",
    "    Results.append([case_id, case_id_short, readm] + feature_values)\n",
    "\n",
    "\n"
   ]
  },
  {
   "cell_type": "code",
   "execution_count": 16,
   "metadata": {},
   "outputs": [],
   "source": [
    "column_list = ['Case_ID', 'OurID', 'Readmission'] + feature_names\n",
    "df = pd.DataFrame(Results, columns= column_list)\n",
    "df.to_excel(os.path.join(main_path, 'radiomics-full.xlsx'), index = False)"
   ]
  },
  {
   "cell_type": "markdown",
   "metadata": {},
   "source": [
    "Calculate AUC and p value"
   ]
  },
  {
   "cell_type": "code",
   "execution_count": 19,
   "metadata": {},
   "outputs": [],
   "source": [
    "from sklearn.metrics import roc_auc_score\n",
    "from scipy import stats"
   ]
  },
  {
   "cell_type": "code",
   "execution_count": 22,
   "metadata": {},
   "outputs": [
    {
     "name": "stdout",
     "output_type": "stream",
     "text": [
      "LV_original_shape_Elongation 0.7159277504105092\n",
      "LV_original_shape_Flatness 0.6403940886699506\n",
      "LV_original_shape_LeastAxisLength 0.4975369458128079\n",
      "LV_original_shape_MajorAxisLength 0.4269293924466338\n",
      "LV_original_shape_Maximum2DDiameterColumn 0.4351395730706076\n",
      "LV_original_shape_Maximum2DDiameterRow 0.4876847290640394\n",
      "LV_original_shape_Maximum2DDiameterSlice 0.5032840722495895\n",
      "LV_original_shape_Maximum3DDiameter 0.44991789819376027\n",
      "LV_original_shape_MeshVolume 0.49425287356321845\n",
      "LV_original_shape_MinorAxisLength 0.535303776683087\n",
      "LV_original_shape_Sphericity 0.5205254515599342\n",
      "LV_original_shape_SurfaceArea 0.5008210180623974\n",
      "LV_original_shape_SurfaceVolumeRatio 0.4958949096880132\n",
      "LV_original_shape_VoxelVolume 0.49425287356321845\n",
      "LV_original_firstorder_10Percentile 0.5172413793103449\n",
      "LV_original_firstorder_90Percentile 0.4967159277504105\n",
      "LV_original_firstorder_Energy 0.5073891625615764\n",
      "LV_original_firstorder_Entropy 0.44499178981937604\n",
      "LV_original_firstorder_InterquartileRange 0.4638752052545156\n",
      "LV_original_firstorder_Kurtosis 0.4860426929392447\n",
      "LV_original_firstorder_Maximum 0.46059113300492616\n",
      "LV_original_firstorder_MeanAbsoluteDeviation 0.451559934318555\n",
      "LV_original_firstorder_Mean 0.5090311986863711\n",
      "LV_original_firstorder_Median 0.5098522167487686\n",
      "LV_original_firstorder_Minimum 0.45977011494252873\n",
      "LV_original_firstorder_Range 0.45484400656814455\n",
      "LV_original_firstorder_RobustMeanAbsoluteDeviation 0.46469622331691296\n",
      "LV_original_firstorder_RootMeanSquared 0.4991789819376027\n",
      "LV_original_firstorder_Skewness 0.4745484400656815\n",
      "LV_original_firstorder_TotalEnergy 0.5073891625615764\n",
      "LV_original_firstorder_Uniformity 0.5336617405582923\n",
      "LV_original_firstorder_Variance 0.44170771756978655\n",
      "LV_original_glcm_Autocorrelation 0.49096880131362897\n",
      "LV_original_glcm_ClusterProminence 0.44499178981937604\n",
      "LV_original_glcm_ClusterShade 0.41543513957307066\n",
      "LV_original_glcm_ClusterTendency 0.4433497536945813\n",
      "LV_original_glcm_Contrast 0.4696223316912972\n",
      "LV_original_glcm_Correlation 0.39901477832512317\n",
      "LV_original_glcm_DifferenceAverage 0.4761904761904762\n",
      "LV_original_glcm_DifferenceEntropy 0.4696223316912972\n",
      "LV_original_glcm_DifferenceVariance 0.471264367816092\n",
      "LV_original_glcm_Id 0.5172413793103449\n",
      "LV_original_glcm_Idm 0.5254515599343186\n",
      "LV_original_glcm_Idmn 0.44170771756978655\n",
      "LV_original_glcm_Idn 0.4909688013136289\n",
      "LV_original_glcm_Imc1 0.548440065681445\n",
      "LV_original_glcm_Imc2 0.4252873563218391\n",
      "LV_original_glcm_InverseVariance 0.46962233169129725\n",
      "LV_original_glcm_JointAverage 0.4958949096880132\n",
      "LV_original_glcm_JointEnergy 0.5320197044334976\n",
      "LV_original_glcm_JointEntropy 0.451559934318555\n",
      "LV_original_glcm_MCC 0.4285714285714286\n",
      "LV_original_glcm_MaximumProbability 0.5205254515599343\n",
      "LV_original_glcm_SumAverage 0.4958949096880132\n",
      "LV_original_glcm_SumEntropy 0.44334975369458135\n",
      "LV_original_glcm_SumSquares 0.4433497536945813\n",
      "LV_original_gldm_DependenceEntropy 0.47126436781609193\n",
      "LV_original_gldm_DependenceNonUniformity 0.5188834154351396\n",
      "LV_original_gldm_DependenceNonUniformityNormalized 0.5090311986863711\n",
      "LV_original_gldm_DependenceVariance 0.41215106732348117\n",
      "LV_original_gldm_GrayLevelNonUniformity 0.5106732348111659\n",
      "LV_original_gldm_GrayLevelVariance 0.44499178981937604\n",
      "LV_original_gldm_HighGrayLevelEmphasis 0.49261083743842365\n",
      "LV_original_gldm_LargeDependenceEmphasis 0.5188834154351396\n",
      "LV_original_gldm_LargeDependenceHighGrayLevelEmphasis 0.5090311986863711\n",
      "LV_original_gldm_LargeDependenceLowGrayLevelEmphasis 0.5024630541871922\n",
      "LV_original_gldm_LowGrayLevelEmphasis 0.5123152709359606\n",
      "LV_original_gldm_SmallDependenceEmphasis 0.4696223316912972\n",
      "LV_original_gldm_SmallDependenceHighGrayLevelEmphasis 0.477832512315271\n",
      "LV_original_gldm_SmallDependenceLowGrayLevelEmphasis 0.5467980295566502\n",
      "LV_original_glrlm_GrayLevelNonUniformity 0.458128078817734\n",
      "LV_original_glrlm_GrayLevelNonUniformityNormalized 0.541871921182266\n",
      "LV_original_glrlm_GrayLevelVariance 0.45320197044334976\n",
      "LV_original_glrlm_HighGrayLevelRunEmphasis 0.4827586206896552\n",
      "LV_original_glrlm_LongRunEmphasis 0.49425287356321845\n",
      "LV_original_glrlm_LongRunHighGrayLevelEmphasis 0.5500821018062397\n",
      "LV_original_glrlm_LongRunLowGrayLevelEmphasis 0.5139573070607554\n",
      "LV_original_glrlm_LowGrayLevelRunEmphasis 0.5155993431855501\n",
      "LV_original_glrlm_RunEntropy 0.5665024630541873\n",
      "LV_original_glrlm_RunLengthNonUniformity 0.45977011494252873\n",
      "LV_original_glrlm_RunLengthNonUniformityNormalized 0.47126436781609204\n",
      "LV_original_glrlm_RunPercentage 0.48604269293924474\n",
      "LV_original_glrlm_RunVariance 0.4926108374384237\n",
      "LV_original_glrlm_ShortRunEmphasis 0.47126436781609193\n",
      "LV_original_glrlm_ShortRunHighGrayLevelEmphasis 0.48111658456486045\n",
      "LV_original_glrlm_ShortRunLowGrayLevelEmphasis 0.5303776683087028\n",
      "LV_original_glszm_GrayLevelNonUniformity 0.4614121510673235\n",
      "LV_original_glszm_GrayLevelNonUniformityNormalized 0.4811165845648604\n",
      "LV_original_glszm_GrayLevelVariance 0.4745484400656815\n",
      "LV_original_glszm_HighGrayLevelZoneEmphasis 0.4926108374384237\n",
      "LV_original_glszm_LargeAreaEmphasis 0.5073891625615764\n",
      "LV_original_glszm_LargeAreaHighGrayLevelEmphasis 0.48275862068965525\n",
      "LV_original_glszm_LargeAreaLowGrayLevelEmphasis 0.5287356321839082\n",
      "LV_original_glszm_LowGrayLevelZoneEmphasis 0.48440065681445\n",
      "LV_original_glszm_SizeZoneNonUniformity 0.43185550082101815\n",
      "LV_original_glszm_SizeZoneNonUniformityNormalized 0.5862068965517241\n",
      "LV_original_glszm_SmallAreaEmphasis 0.5812807881773399\n",
      "LV_original_glszm_SmallAreaHighGrayLevelEmphasis 0.4696223316912972\n",
      "LV_original_glszm_SmallAreaLowGrayLevelEmphasis 0.5090311986863711\n",
      "LV_original_glszm_ZoneEntropy 0.4811165845648604\n",
      "LV_original_glszm_ZonePercentage 0.4400656814449918\n",
      "LV_original_glszm_ZoneVariance 0.5073891625615763\n",
      "LV_original_ngtdm_Busyness 0.5172413793103449\n",
      "LV_original_ngtdm_Coarseness 0.5090311986863711\n",
      "LV_original_ngtdm_Complexity 0.458128078817734\n",
      "LV_original_ngtdm_Contrast 0.5221674876847291\n",
      "LV_original_ngtdm_Strength 0.49589490968801314\n",
      "MYO_original_shape_Elongation 0.6617405582922825\n",
      "MYO_original_shape_Flatness 0.4729064039408867\n",
      "MYO_original_shape_LeastAxisLength 0.46305418719211827\n",
      "MYO_original_shape_MajorAxisLength 0.48604269293924474\n",
      "MYO_original_shape_Maximum2DDiameterColumn 0.4277504105090312\n",
      "MYO_original_shape_Maximum2DDiameterRow 0.47619047619047616\n",
      "MYO_original_shape_Maximum2DDiameterSlice 0.5180623973727422\n",
      "MYO_original_shape_Maximum3DDiameter 0.4351395730706076\n",
      "MYO_original_shape_MeshVolume 0.4285714285714286\n",
      "MYO_original_shape_MinorAxisLength 0.5123152709359606\n",
      "MYO_original_shape_Sphericity 0.4630541871921182\n",
      "MYO_original_shape_SurfaceArea 0.4876847290640394\n",
      "MYO_original_shape_SurfaceVolumeRatio 0.5779967159277504\n",
      "MYO_original_shape_VoxelVolume 0.4285714285714286\n",
      "MYO_original_firstorder_10Percentile 0.4532019704433498\n",
      "MYO_original_firstorder_90Percentile 0.5246305418719213\n",
      "MYO_original_firstorder_Energy 0.4761904761904762\n",
      "MYO_original_firstorder_Entropy 0.4811165845648605\n",
      "MYO_original_firstorder_InterquartileRange 0.5114942528735632\n",
      "MYO_original_firstorder_Kurtosis 0.49096880131362897\n",
      "MYO_original_firstorder_Maximum 0.5073891625615763\n",
      "MYO_original_firstorder_MeanAbsoluteDeviation 0.5172413793103449\n",
      "MYO_original_firstorder_Mean 0.4893267651888342\n",
      "MYO_original_firstorder_Median 0.477832512315271\n",
      "MYO_original_firstorder_Minimum 0.4564860426929393\n",
      "MYO_original_firstorder_Range 0.5139573070607554\n",
      "MYO_original_firstorder_RobustMeanAbsoluteDeviation 0.5106732348111659\n",
      "MYO_original_firstorder_RootMeanSquared 0.49753694581280794\n",
      "MYO_original_firstorder_Skewness 0.5320197044334976\n",
      "MYO_original_firstorder_TotalEnergy 0.4761904761904762\n",
      "MYO_original_firstorder_Uniformity 0.5287356321839081\n",
      "MYO_original_firstorder_Variance 0.5238095238095238\n",
      "MYO_original_glcm_Autocorrelation 0.5517241379310346\n",
      "MYO_original_glcm_ClusterProminence 0.5155993431855501\n",
      "MYO_original_glcm_ClusterShade 0.5681444991789819\n",
      "MYO_original_glcm_ClusterTendency 0.5008210180623973\n",
      "MYO_original_glcm_Contrast 0.4811165845648604\n",
      "MYO_original_glcm_Correlation 0.5254515599343186\n",
      "MYO_original_glcm_DifferenceAverage 0.47947454844006565\n",
      "MYO_original_glcm_DifferenceEntropy 0.47947454844006565\n",
      "MYO_original_glcm_DifferenceVariance 0.4860426929392447\n",
      "MYO_original_glcm_Id 0.5221674876847291\n",
      "MYO_original_glcm_Idm 0.5205254515599343\n",
      "MYO_original_glcm_Idmn 0.5582922824302136\n",
      "MYO_original_glcm_Idn 0.5369458128078819\n",
      "MYO_original_glcm_Imc1 0.4958949096880132\n",
      "MYO_original_glcm_Imc2 0.4958949096880132\n",
      "MYO_original_glcm_InverseVariance 0.4663382594417078\n",
      "MYO_original_glcm_JointAverage 0.5533661740558292\n",
      "MYO_original_glcm_JointEnergy 0.5582922824302134\n",
      "MYO_original_glcm_JointEntropy 0.47619047619047616\n",
      "MYO_original_glcm_MCC 0.5238095238095238\n",
      "MYO_original_glcm_MaximumProbability 0.5894909688013136\n",
      "MYO_original_glcm_SumAverage 0.5533661740558292\n",
      "MYO_original_glcm_SumEntropy 0.471264367816092\n",
      "MYO_original_glcm_SumSquares 0.49096880131362897\n",
      "MYO_original_gldm_DependenceEntropy 0.45977011494252873\n",
      "MYO_original_gldm_DependenceNonUniformity 0.4827586206896552\n",
      "MYO_original_gldm_DependenceNonUniformityNormalized 0.5336617405582923\n",
      "MYO_original_gldm_DependenceVariance 0.48932676518883417\n",
      "MYO_original_gldm_GrayLevelNonUniformity 0.4745484400656814\n",
      "MYO_original_gldm_GrayLevelVariance 0.4958949096880131\n",
      "MYO_original_gldm_HighGrayLevelEmphasis 0.555008210180624\n",
      "MYO_original_gldm_LargeDependenceEmphasis 0.5073891625615764\n",
      "MYO_original_gldm_LargeDependenceHighGrayLevelEmphasis 0.5632183908045977\n",
      "MYO_original_gldm_LargeDependenceLowGrayLevelEmphasis 0.45484400656814455\n",
      "MYO_original_gldm_LowGrayLevelEmphasis 0.45484400656814455\n",
      "MYO_original_gldm_SmallDependenceEmphasis 0.5073891625615764\n",
      "MYO_original_gldm_SmallDependenceHighGrayLevelEmphasis 0.5336617405582923\n",
      "MYO_original_gldm_SmallDependenceLowGrayLevelEmphasis 0.38095238095238093\n",
      "MYO_original_glrlm_GrayLevelNonUniformity 0.40065681444991796\n",
      "MYO_original_glrlm_GrayLevelNonUniformityNormalized 0.4876847290640394\n",
      "MYO_original_glrlm_GrayLevelVariance 0.5238095238095238\n",
      "MYO_original_glrlm_HighGrayLevelRunEmphasis 0.548440065681445\n",
      "MYO_original_glrlm_LongRunEmphasis 0.5090311986863711\n",
      "MYO_original_glrlm_LongRunHighGrayLevelEmphasis 0.5369458128078818\n",
      "MYO_original_glrlm_LongRunLowGrayLevelEmphasis 0.4876847290640394\n",
      "MYO_original_glrlm_LowGrayLevelRunEmphasis 0.44991789819376027\n",
      "MYO_original_glrlm_RunEntropy 0.5155993431855501\n",
      "MYO_original_glrlm_RunLengthNonUniformity 0.45484400656814455\n",
      "MYO_original_glrlm_RunLengthNonUniformityNormalized 0.5041050903119869\n",
      "MYO_original_glrlm_RunPercentage 0.4975369458128079\n",
      "MYO_original_glrlm_RunVariance 0.5172413793103449\n",
      "MYO_original_glrlm_ShortRunEmphasis 0.5106732348111659\n",
      "MYO_original_glrlm_ShortRunHighGrayLevelEmphasis 0.5435139573070606\n",
      "MYO_original_glrlm_ShortRunLowGrayLevelEmphasis 0.41215106732348117\n",
      "MYO_original_glszm_GrayLevelNonUniformity 0.5763546798029557\n",
      "MYO_original_glszm_GrayLevelNonUniformityNormalized 0.49425287356321845\n",
      "MYO_original_glszm_GrayLevelVariance 0.4991789819376027\n",
      "MYO_original_glszm_HighGrayLevelZoneEmphasis 0.548440065681445\n",
      "MYO_original_glszm_LargeAreaEmphasis 0.45977011494252873\n",
      "MYO_original_glszm_LargeAreaHighGrayLevelEmphasis 0.47947454844006576\n",
      "MYO_original_glszm_LargeAreaLowGrayLevelEmphasis 0.45977011494252873\n",
      "MYO_original_glszm_LowGrayLevelZoneEmphasis 0.37602627257799676\n",
      "MYO_original_glszm_SizeZoneNonUniformity 0.4958949096880132\n",
      "MYO_original_glszm_SizeZoneNonUniformityNormalized 0.5008210180623974\n",
      "MYO_original_glszm_SmallAreaEmphasis 0.464696223316913\n",
      "MYO_original_glszm_SmallAreaHighGrayLevelEmphasis 0.535303776683087\n",
      "MYO_original_glszm_SmallAreaLowGrayLevelEmphasis 0.3382594417077176\n",
      "MYO_original_glszm_ZoneEntropy 0.5270935960591133\n",
      "MYO_original_glszm_ZonePercentage 0.5336617405582923\n",
      "MYO_original_glszm_ZoneVariance 0.45977011494252873\n",
      "MYO_original_ngtdm_Busyness 0.43021346469622335\n",
      "MYO_original_ngtdm_Coarseness 0.671592775041051\n",
      "MYO_original_ngtdm_Complexity 0.4893267651888342\n",
      "MYO_original_ngtdm_Contrast 0.46962233169129725\n",
      "MYO_original_ngtdm_Strength 0.5254515599343186\n"
     ]
    }
   ],
   "source": [
    "data = pd.read_excel(os.path.join(main_path, 'radiomics-full.xlsx'))\n",
    "\n",
    "for feature_name in data.columns[3:]:\n",
    "\n",
    "    auc = roc_auc_score(data['Readmission'], data[feature_name])\n",
    "    print(feature_name, auc)\n"
   ]
  },
  {
   "cell_type": "code",
   "execution_count": 155,
   "metadata": {},
   "outputs": [
    {
     "name": "stdout",
     "output_type": "stream",
     "text": [
      "LV_original_shape_Elongation 0.02609644010694866\n",
      "LV_original_shape_Flatness 0.10609673865813976\n",
      "LV_original_shape_LeastAxisLength 0.4103158445397296\n",
      "LV_original_shape_MajorAxisLength 0.6502530881735737\n",
      "LV_original_shape_Maximum2DDiameterColumn 0.9942057084229627\n",
      "LV_original_shape_Maximum2DDiameterRow 0.9322915204392885\n",
      "LV_original_shape_Maximum2DDiameterSlice 0.4327924766599637\n",
      "LV_original_shape_Maximum3DDiameter 0.7193316366684066\n",
      "LV_original_shape_MeshVolume 0.6422187606048457\n",
      "LV_original_shape_MinorAxisLength 0.3148600459908848\n",
      "LV_original_shape_Sphericity 0.7693251812125268\n",
      "LV_original_shape_SurfaceArea 0.581075437968908\n",
      "LV_original_shape_SurfaceVolumeRatio 0.5149212804000636\n",
      "LV_original_shape_VoxelVolume 0.6422676964496747\n",
      "LV_original_firstorder_10Percentile 0.8574989300183504\n",
      "LV_original_firstorder_90Percentile 0.5042376776998938\n",
      "LV_original_firstorder_Energy 0.458748709300109\n",
      "LV_original_firstorder_Entropy 0.5422729313518444\n",
      "LV_original_firstorder_InterquartileRange 0.1952049901762106\n",
      "LV_original_firstorder_Kurtosis 0.3789720695039449\n",
      "LV_original_firstorder_Maximum 0.6911530871776775\n",
      "LV_original_firstorder_MeanAbsoluteDeviation 0.24442454703730934\n",
      "LV_original_firstorder_Mean 0.6806258031504815\n",
      "LV_original_firstorder_Median 0.6345377822884564\n",
      "LV_original_firstorder_Minimum 0.18398728104315534\n",
      "LV_original_firstorder_Range 0.5456427535688043\n",
      "LV_original_firstorder_RobustMeanAbsoluteDeviation 0.19829172410497645\n",
      "LV_original_firstorder_RootMeanSquared 0.6398966455184689\n",
      "LV_original_firstorder_Skewness 0.5103208542375033\n",
      "LV_original_firstorder_TotalEnergy 0.458748709300109\n",
      "LV_original_firstorder_Uniformity 0.9457752748914208\n",
      "LV_original_firstorder_Variance 0.12144892418111997\n",
      "LV_original_glcm_Autocorrelation 0.2323684006874296\n",
      "LV_original_glcm_ClusterProminence 0.12840276429119996\n",
      "LV_original_glcm_ClusterShade 0.1011881759605432\n",
      "LV_original_glcm_ClusterTendency 0.12725935258777318\n",
      "LV_original_glcm_Contrast 0.14637096054408524\n",
      "LV_original_glcm_Correlation 0.5021468924509291\n",
      "LV_original_glcm_DifferenceAverage 0.27185579059430964\n",
      "LV_original_glcm_DifferenceEntropy 0.40376849725957864\n",
      "LV_original_glcm_DifferenceVariance 0.14495561914450308\n",
      "LV_original_glcm_Id 0.4269312554678054\n",
      "LV_original_glcm_Idm 0.38585782328068574\n",
      "LV_original_glcm_Idmn 0.19774868004199955\n",
      "LV_original_glcm_Idn 0.4495691400547924\n",
      "LV_original_glcm_Imc1 0.6055387691945906\n",
      "LV_original_glcm_Imc2 0.6110166431604045\n",
      "LV_original_glcm_InverseVariance 0.9431438839777533\n",
      "LV_original_glcm_JointAverage 0.42863075710930054\n",
      "LV_original_glcm_JointEnergy 0.880554752452504\n",
      "LV_original_glcm_JointEntropy 0.4913035102203668\n",
      "LV_original_glcm_MCC 0.4707897287354934\n",
      "LV_original_glcm_MaximumProbability 0.8939221198603989\n",
      "LV_original_glcm_SumAverage 0.4286307571093012\n",
      "LV_original_glcm_SumEntropy 0.629246211821249\n",
      "LV_original_glcm_SumSquares 0.12643768484690662\n",
      "LV_original_gldm_DependenceEntropy 0.8047740605198993\n",
      "LV_original_gldm_DependenceNonUniformity 0.46983778019722167\n",
      "LV_original_gldm_DependenceNonUniformityNormalized 0.5782269052960016\n",
      "LV_original_gldm_DependenceVariance 0.53545286648369\n",
      "LV_original_gldm_GrayLevelNonUniformity 0.6247267907228384\n",
      "LV_original_gldm_GrayLevelVariance 0.11969030070442385\n",
      "LV_original_gldm_HighGrayLevelEmphasis 0.23570911371475192\n",
      "LV_original_gldm_LargeDependenceEmphasis 0.6641420624540513\n",
      "LV_original_gldm_LargeDependenceHighGrayLevelEmphasis 0.46885019806072736\n",
      "LV_original_gldm_LargeDependenceLowGrayLevelEmphasis 0.49786345702689605\n",
      "LV_original_gldm_LowGrayLevelEmphasis 0.5466315083005009\n",
      "LV_original_gldm_SmallDependenceEmphasis 0.18181613778669112\n",
      "LV_original_gldm_SmallDependenceHighGrayLevelEmphasis 0.11137873766147381\n",
      "LV_original_gldm_SmallDependenceLowGrayLevelEmphasis 0.6448292711863197\n",
      "LV_original_glrlm_GrayLevelNonUniformity 0.9381391854017993\n",
      "LV_original_glrlm_GrayLevelNonUniformityNormalized 0.8894177872022113\n",
      "LV_original_glrlm_GrayLevelVariance 0.16690369637087465\n",
      "LV_original_glrlm_HighGrayLevelRunEmphasis 0.2498029832409012\n",
      "LV_original_glrlm_LongRunEmphasis 0.5820566379449974\n",
      "LV_original_glrlm_LongRunHighGrayLevelEmphasis 0.9765827167614258\n",
      "LV_original_glrlm_LongRunLowGrayLevelEmphasis 0.38467365916762986\n",
      "LV_original_glrlm_LowGrayLevelRunEmphasis 0.5587634190460731\n",
      "LV_original_glrlm_RunEntropy 0.44859102094013303\n",
      "LV_original_glrlm_RunLengthNonUniformity 0.3447094687330675\n",
      "LV_original_glrlm_RunLengthNonUniformityNormalized 0.5532576913072784\n",
      "LV_original_glrlm_RunPercentage 0.556036997142569\n",
      "LV_original_glrlm_RunVariance 0.6109747742770717\n",
      "LV_original_glrlm_ShortRunEmphasis 0.7633220725278608\n",
      "LV_original_glrlm_ShortRunHighGrayLevelEmphasis 0.20052852393671372\n",
      "LV_original_glrlm_ShortRunLowGrayLevelEmphasis 0.6696409578981669\n",
      "LV_original_glszm_GrayLevelNonUniformity 0.7387811698063811\n",
      "LV_original_glszm_GrayLevelNonUniformityNormalized 0.6812829823600859\n",
      "LV_original_glszm_GrayLevelVariance 0.39337284054646693\n",
      "LV_original_glszm_HighGrayLevelZoneEmphasis 0.24375002005935856\n",
      "LV_original_glszm_LargeAreaEmphasis 0.3662275941116191\n",
      "LV_original_glszm_LargeAreaHighGrayLevelEmphasis 0.8080897814642108\n",
      "LV_original_glszm_LargeAreaLowGrayLevelEmphasis 0.3442355030551876\n",
      "LV_original_glszm_LowGrayLevelZoneEmphasis 0.9527469083991955\n",
      "LV_original_glszm_SizeZoneNonUniformity 0.20123665196813098\n",
      "LV_original_glszm_SizeZoneNonUniformityNormalized 0.36137783684543434\n",
      "LV_original_glszm_SmallAreaEmphasis 0.30778297883427835\n",
      "LV_original_glszm_SmallAreaHighGrayLevelEmphasis 0.23806438452468062\n",
      "LV_original_glszm_SmallAreaLowGrayLevelEmphasis 0.6455384722016005\n",
      "LV_original_glszm_ZoneEntropy 0.6880106688868102\n",
      "LV_original_glszm_ZonePercentage 0.23543318778743233\n",
      "LV_original_glszm_ZoneVariance 0.37093028526226557\n",
      "LV_original_ngtdm_Busyness 0.2837621129830469\n",
      "LV_original_ngtdm_Coarseness 0.6460384606765901\n",
      "LV_original_ngtdm_Complexity 0.20751435859839737\n",
      "LV_original_ngtdm_Contrast 0.10865403211311575\n",
      "LV_original_ngtdm_Strength 0.5207860594682092\n",
      "MYO_original_shape_Elongation 0.39369766424172903\n",
      "MYO_original_shape_Flatness 0.580617667338546\n",
      "MYO_original_shape_LeastAxisLength 0.8974986146045953\n",
      "MYO_original_shape_MajorAxisLength 0.6244040959382816\n",
      "MYO_original_shape_Maximum2DDiameterColumn 0.9855639450925532\n",
      "MYO_original_shape_Maximum2DDiameterRow 0.8272309967190228\n",
      "MYO_original_shape_Maximum2DDiameterSlice 0.5339834403276071\n",
      "MYO_original_shape_Maximum3DDiameter 0.8702940505627745\n",
      "MYO_original_shape_MeshVolume 0.7626677946079266\n",
      "MYO_original_shape_MinorAxisLength 0.4542636130019574\n",
      "MYO_original_shape_Sphericity 0.6701077001141937\n",
      "MYO_original_shape_SurfaceArea 0.6353320992420739\n",
      "MYO_original_shape_SurfaceVolumeRatio 0.7523778718581193\n",
      "MYO_original_shape_VoxelVolume 0.7603493664941652\n",
      "MYO_original_firstorder_10Percentile 0.47552135347016344\n",
      "MYO_original_firstorder_90Percentile 0.9338835285313569\n",
      "MYO_original_firstorder_Energy 0.9833853799010768\n",
      "MYO_original_firstorder_Entropy 0.8254005067703035\n",
      "MYO_original_firstorder_InterquartileRange 0.7918559459452912\n",
      "MYO_original_firstorder_Kurtosis 0.603739716426802\n",
      "MYO_original_firstorder_Maximum 0.8768832211067066\n",
      "MYO_original_firstorder_MeanAbsoluteDeviation 0.7580197039748572\n",
      "MYO_original_firstorder_Mean 0.7370382211627653\n",
      "MYO_original_firstorder_Median 0.6468588093964318\n",
      "MYO_original_firstorder_Minimum 0.4829044647592067\n",
      "MYO_original_firstorder_Range 0.794740301083267\n",
      "MYO_original_firstorder_RobustMeanAbsoluteDeviation 0.751931563673732\n",
      "MYO_original_firstorder_RootMeanSquared 0.7914788916173565\n",
      "MYO_original_firstorder_Skewness 0.3820481955126197\n",
      "MYO_original_firstorder_TotalEnergy 0.983385379901077\n",
      "MYO_original_firstorder_Uniformity 0.447118177319755\n",
      "MYO_original_firstorder_Variance 0.5583626988879492\n",
      "MYO_original_glcm_Autocorrelation 0.7955889449247547\n",
      "MYO_original_glcm_ClusterProminence 0.32879867378272487\n",
      "MYO_original_glcm_ClusterShade 0.18950329907283006\n",
      "MYO_original_glcm_ClusterTendency 0.6227428220252123\n",
      "MYO_original_glcm_Contrast 0.707427229541107\n",
      "MYO_original_glcm_Correlation 0.9969005047025407\n",
      "MYO_original_glcm_DifferenceAverage 0.9616915143120952\n",
      "MYO_original_glcm_DifferenceEntropy 0.9067700254425696\n",
      "MYO_original_glcm_DifferenceVariance 0.7526465025645948\n",
      "MYO_original_glcm_Id 0.8961190884858785\n",
      "MYO_original_glcm_Idm 0.9427291119098764\n",
      "MYO_original_glcm_Idmn 0.6743172352648897\n",
      "MYO_original_glcm_Idn 0.5228456852865997\n",
      "MYO_original_glcm_Imc1 0.8952221297180962\n",
      "MYO_original_glcm_Imc2 0.6108824566579394\n",
      "MYO_original_glcm_InverseVariance 0.6244329498151261\n",
      "MYO_original_glcm_JointAverage 0.9200484729411715\n",
      "MYO_original_glcm_JointEnergy 0.2987253874013166\n",
      "MYO_original_glcm_JointEntropy 0.830408955956218\n",
      "MYO_original_glcm_MCC 0.9289190781853214\n",
      "MYO_original_glcm_MaximumProbability 0.2168436439984192\n",
      "MYO_original_glcm_SumAverage 0.9200484729411715\n",
      "MYO_original_glcm_SumEntropy 0.7074337528605006\n",
      "MYO_original_glcm_SumSquares 0.6298786555996205\n",
      "MYO_original_gldm_DependenceEntropy 0.44069799338228455\n",
      "MYO_original_gldm_DependenceNonUniformity 0.19938918843955775\n",
      "MYO_original_gldm_DependenceNonUniformityNormalized 0.13478706932871923\n",
      "MYO_original_gldm_DependenceVariance 0.8276941031352422\n",
      "MYO_original_gldm_GrayLevelNonUniformity 0.44671167547889234\n",
      "MYO_original_gldm_GrayLevelVariance 0.6091287912286953\n",
      "MYO_original_gldm_HighGrayLevelEmphasis 0.7777712159670611\n",
      "MYO_original_gldm_LargeDependenceEmphasis 0.7697802580519558\n",
      "MYO_original_gldm_LargeDependenceHighGrayLevelEmphasis 0.877426753930904\n",
      "MYO_original_gldm_LargeDependenceLowGrayLevelEmphasis 0.6498653510235909\n",
      "MYO_original_gldm_LowGrayLevelEmphasis 0.9317703526853309\n",
      "MYO_original_gldm_SmallDependenceEmphasis 0.5712842155473927\n",
      "MYO_original_gldm_SmallDependenceHighGrayLevelEmphasis 0.37931478246327377\n",
      "MYO_original_gldm_SmallDependenceLowGrayLevelEmphasis 0.4936377154403523\n",
      "MYO_original_glrlm_GrayLevelNonUniformity 0.9097970151128751\n",
      "MYO_original_glrlm_GrayLevelNonUniformityNormalized 0.8200104711329673\n",
      "MYO_original_glrlm_GrayLevelVariance 0.5716638560895467\n",
      "MYO_original_glrlm_HighGrayLevelRunEmphasis 0.6998420735249826\n",
      "MYO_original_glrlm_LongRunEmphasis 0.29823817076339965\n",
      "MYO_original_glrlm_LongRunHighGrayLevelEmphasis 0.4250816907611068\n",
      "MYO_original_glrlm_LongRunLowGrayLevelEmphasis 0.28434308616977005\n",
      "MYO_original_glrlm_LowGrayLevelRunEmphasis 0.7999566629685263\n",
      "MYO_original_glrlm_RunEntropy 0.8553819755725895\n",
      "MYO_original_glrlm_RunLengthNonUniformity 0.9885296771932413\n",
      "MYO_original_glrlm_RunLengthNonUniformityNormalized 0.9102201329889894\n",
      "MYO_original_glrlm_RunPercentage 0.8875635847306022\n",
      "MYO_original_glrlm_RunVariance 0.2691640559020701\n",
      "MYO_original_glrlm_ShortRunEmphasis 0.9955593433202029\n",
      "MYO_original_glrlm_ShortRunHighGrayLevelEmphasis 0.628694291556513\n",
      "MYO_original_glrlm_ShortRunLowGrayLevelEmphasis 0.5032587383855341\n",
      "MYO_original_glszm_GrayLevelNonUniformity 0.10841472545588723\n",
      "MYO_original_glszm_GrayLevelNonUniformityNormalized 0.25489648028452755\n",
      "MYO_original_glszm_GrayLevelVariance 0.9640483852445918\n",
      "MYO_original_glszm_HighGrayLevelZoneEmphasis 0.47874974726989505\n",
      "MYO_original_glszm_LargeAreaEmphasis 0.396515950958062\n",
      "MYO_original_glszm_LargeAreaHighGrayLevelEmphasis 0.7275675236882757\n",
      "MYO_original_glszm_LargeAreaLowGrayLevelEmphasis 0.2872961090084409\n",
      "MYO_original_glszm_LowGrayLevelZoneEmphasis 0.21316473862278532\n",
      "MYO_original_glszm_SizeZoneNonUniformity 0.4884784477540267\n",
      "MYO_original_glszm_SizeZoneNonUniformityNormalized 0.738733270594094\n",
      "MYO_original_glszm_SmallAreaEmphasis 0.5022014120866205\n",
      "MYO_original_glszm_SmallAreaHighGrayLevelEmphasis 0.4597846860100633\n",
      "MYO_original_glszm_SmallAreaLowGrayLevelEmphasis 0.09783632343743022\n",
      "MYO_original_glszm_ZoneEntropy 0.9050444734121452\n",
      "MYO_original_glszm_ZonePercentage 0.4267854109167537\n",
      "MYO_original_glszm_ZoneVariance 0.39214701286405407\n",
      "MYO_original_ngtdm_Busyness 0.8830679240746968\n",
      "MYO_original_ngtdm_Coarseness 0.5052350581997671\n",
      "MYO_original_ngtdm_Complexity 0.5703749968508932\n",
      "MYO_original_ngtdm_Contrast 0.9756359604198787\n",
      "MYO_original_ngtdm_Strength 0.532659310862881\n"
     ]
    }
   ],
   "source": [
    "for feature_name in data.columns[3:]:\n",
    "\n",
    "    no_readm = data[data['Readmission'] == 0][feature_name]\n",
    "    yes_readm = data[data['Readmission'] == 1][feature_name]\n",
    "\n",
    "    t_statistic, p_value = stats.ttest_ind(no_readm, yes_readm)\n",
    "\n",
    "    print(feature_name, p_value)\n",
    "\n"
   ]
  }
 ],
 "metadata": {
  "kernelspec": {
   "display_name": "Python 3",
   "language": "python",
   "name": "python3"
  },
  "language_info": {
   "codemirror_mode": {
    "name": "ipython",
    "version": 3
   },
   "file_extension": ".py",
   "mimetype": "text/x-python",
   "name": "python",
   "nbconvert_exporter": "python",
   "pygments_lexer": "ipython3",
   "version": "3.8.5"
  }
 },
 "nbformat": 4,
 "nbformat_minor": 2
}

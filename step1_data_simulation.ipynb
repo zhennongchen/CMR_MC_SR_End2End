{
 "cells": [
  {
   "cell_type": "markdown",
   "metadata": {},
   "source": [
    "## Data Preparation\n",
    "\n",
    "You should prepare the following before running this step. Please refer to the `example_data` folder for guidance:\n",
    "\n",
    "1. **high-resolution CMR contours** from [Cardiac super-resolution label maps](https://data.mendeley.com/datasets/pw87p286yx/1)\n",
    "   - please download this dataset \n",
    "   - we prepare two examples ```example_data/processed_HR_data/1081``` and ```/1256```\n",
    "\n",
    "---\n",
    "\n",
    "## Data simulation\n",
    "Simulate the downsampled and slice-misaligned data from high-resolution CMR contours so that we have paired data for supervised training.\n",
    "\n",
    "### Docker environment\n",
    "Please use `docker`, it will build a tensorflow-based container\n"
   ]
  },
  {
   "cell_type": "code",
   "execution_count": 1,
   "metadata": {},
   "outputs": [],
   "source": [
    "import os\n",
    "import sys\n",
    "sys.path.append('/workspace/Documents')  ### remove this if not needed!\n",
    "import numpy as np\n",
    "import cupy as cp\n",
    "import matplotlib.pyplot as plt\n",
    "import glob as gb\n",
    "import nibabel as nb\n",
    "import shutil\n",
    "import os\n",
    "import math\n",
    "\n",
    "import CMR_MC_SR_End2End.functions_collection as ff\n",
    "import CMR_MC_SR_End2End.data_simulation.transformation as transform\n",
    "import CMR_MC_SR_End2End.Image_utils as util\n",
    "import CMR_MC_SR_End2End.data_simulation.generate_moving_data as gen\n",
    "\n",
    "main_path = '/mnt/camca_NAS/CMR_processing/' # replace with your own"
   ]
  },
  {
   "cell_type": "markdown",
   "metadata": {},
   "source": [
    "### define moving range"
   ]
  },
  {
   "cell_type": "code",
   "execution_count": 2,
   "metadata": {},
   "outputs": [],
   "source": [
    "# define moving range:\n",
    "t_mu = 2.5 #unit mm\n",
    "t_sigma = 0.75 # unit mm\n",
    "t_bar = 5 # unit mm <= mu + 2sigma ~ 5mm (4 pixels)\n",
    "extreme = False"
   ]
  },
  {
   "cell_type": "markdown",
   "metadata": {},
   "source": [
    "### define patient list"
   ]
  },
  {
   "cell_type": "code",
   "execution_count": 3,
   "metadata": {},
   "outputs": [
    {
     "name": "stdout",
     "output_type": "stream",
     "text": [
      "['/mnt/camca_NAS/CMR_processing/example_data/processed_HR_data/1081/ED', '/mnt/camca_NAS/CMR_processing/example_data/processed_HR_data/1256/ED']\n"
     ]
    }
   ],
   "source": [
    "patient_list = ff.find_all_target_files(['*'],os.path.join(main_path,'example_data/processed_HR_data'))\n",
    "case_list = []\n",
    "for p in patient_list:\n",
    "    cases = ff.find_all_target_files(['ED'],p)\n",
    "    for c in cases:\n",
    "        case_list.append(c)\n",
    "print(case_list)\n",
    "\n",
    "main_save_folder = os.path.join(main_path,'example_data/simulated_data')\n",
    "ff.make_folder([main_save_folder])"
   ]
  },
  {
   "cell_type": "markdown",
   "metadata": {},
   "source": [
    "### do simulation\n",
    "it will generate two types of data saved in ```example_data/simulated_data```.\n",
    "\n",
    "- first is downsampled data (downsample a factor of 5 in z-axis), saved in folder ```ds```\n",
    "- second is applying inter-slice motion to downsampled data, mimicing the motion artifacts, saved in folder ```normal_motion_X```"
   ]
  },
  {
   "cell_type": "code",
   "execution_count": 4,
   "metadata": {},
   "outputs": [
    {
     "name": "stdout",
     "output_type": "stream",
     "text": [
      "patient:  1081 ED\n",
      "generate normal motion 1\n",
      "generate normal motion 2\n",
      "patient:  1256 ED\n",
      "generate normal motion 1\n",
      "generate normal motion 2\n"
     ]
    },
    {
     "name": "stderr",
     "output_type": "stream",
     "text": [
      "/usr/local/lib/python3.8/dist-packages/numpy/core/_asarray.py:83: VisibleDeprecationWarning: Creating an ndarray from ragged nested sequences (which is a list-or-tuple of lists-or-tuples-or ndarrays with different lengths or shapes) is deprecated. If you meant to do this, you must specify 'dtype=object' when creating the ndarray\n",
      "  return array(a, dtype, copy=False, order=order)\n"
     ]
    }
   ],
   "source": [
    "for case in case_list:\n",
    "    patient_id = os.path.basename(os.path.dirname(case))\n",
    "    tf = os.path.basename(case)\n",
    "    print('patient: ', patient_id, tf)\n",
    "\n",
    "    save_folder = os.path.join(main_save_folder,patient_id,tf)\n",
    "    ff.make_folder([os.path.dirname(save_folder),save_folder])\n",
    "\n",
    "\n",
    "    img_file = os.path.join(case, 'HR_ED_zoomed_crop_flip_clean.nii.gz')\n",
    "    assert os.path.isfile(img_file) == 1, 'Image file not found: ' + img_file\n",
    "    img_file = nb.load(img_file)\n",
    "    affine_HR = img_file.affine\n",
    "    spacing = img_file.header.get_zooms()\n",
    "    img = img_file.get_fdata()\n",
    "    \n",
    "\n",
    "    # generate static data (only down-sampling)\n",
    "    img_ds,new_affine = util.downsample_in_z(img,5,affine=affine_HR)\n",
    "    assert img_ds.shape[-1] == 12\n",
    "    new_spacing = (spacing[0],spacing[1],spacing[2]*5)      \n",
    "    new_header = img_file.header\n",
    "    new_header['pixdim'] = [-1, new_spacing[0], new_spacing[1], new_spacing[-1],0,0,0,0]\n",
    "\n",
    "    \n",
    "    save_folder_static = os.path.join(save_folder,'ds'); ff.make_folder([save_folder_static])\n",
    "    img_ds_nb = nb.Nifti1Image(img_ds, new_affine, header=new_header)\n",
    "    nb.save(img_ds_nb, os.path.join(save_folder_static,'data_clean.nii.gz'))\n",
    "        \n",
    "\n",
    "    # generate moving data \n",
    "    for i in range(0,2):\n",
    "\n",
    "        print('generate normal motion', i+1)\n",
    "        save_folder_r = os.path.join(save_folder,'normal_motion_'+str(i+1)); ff.make_folder([save_folder_r])\n",
    "\n",
    "        img_new,record = gen.generate_moving_data(img_ds, t_mu, t_sigma, t_bar, 0, spacing, order = 0, extreme = extreme)\n",
    "        # save image\n",
    "        nb.save(nb.Nifti1Image(img_new, new_affine, header=new_header), os.path.join(save_folder_r,'data_clean.nii.gz'))\n",
    "        # save record\n",
    "        ff.txt_writer2(os.path.join(save_folder_r, 'motion_record.txt'),record)\n",
    "        np.save(os.path.join(save_folder_r, 'motion_record.npy'), np.asarray(record))\n",
    "    \n",
    "\n"
   ]
  },
  {
   "cell_type": "markdown",
   "metadata": {},
   "source": [
    "### calculate the centerline points (will be used in the following steps)"
   ]
  },
  {
   "cell_type": "code",
   "execution_count": 5,
   "metadata": {},
   "outputs": [
    {
     "name": "stdout",
     "output_type": "stream",
     "text": [
      "['/mnt/camca_NAS/CMR_processing/example_data/simulated_data/1081/ED'\n",
      " '/mnt/camca_NAS/CMR_processing/example_data/simulated_data/1256/ED']\n",
      "/mnt/camca_NAS/CMR_processing/example_data/simulated_data/1081/ED/ds/data_clean.nii.gz\n",
      "/mnt/camca_NAS/CMR_processing/example_data/simulated_data/1081/ED/normal_motion_1/data_clean.nii.gz\n",
      "/mnt/camca_NAS/CMR_processing/example_data/simulated_data/1081/ED/normal_motion_2/data_clean.nii.gz\n",
      "/mnt/camca_NAS/CMR_processing/example_data/simulated_data/1256/ED/ds/data_clean.nii.gz\n",
      "/mnt/camca_NAS/CMR_processing/example_data/simulated_data/1256/ED/normal_motion_1/data_clean.nii.gz\n",
      "/mnt/camca_NAS/CMR_processing/example_data/simulated_data/1256/ED/normal_motion_2/data_clean.nii.gz\n"
     ]
    },
    {
     "name": "stderr",
     "output_type": "stream",
     "text": [
      "/usr/local/lib/python3.8/dist-packages/scipy/ndimage/measurements.py:1406: RuntimeWarning: invalid value encountered in double_scalars\n",
      "  results = [sum(input * grids[dir].astype(float), labels, index) / normalizer\n"
     ]
    }
   ],
   "source": [
    "# get patient list\n",
    "case_list = ff.find_all_target_files(['*/ED'],os.path.join(main_path,'example_data/simulated_data'))\n",
    "print(case_list)\n",
    "\n",
    "# get center line points (for LV + myo)\n",
    "for case in case_list:\n",
    "    patient_id = os.path.basename(os.path.dirname(case))\n",
    "    tf = os.path.basename(case)\n",
    "\n",
    "    files = ff.find_all_target_files(['ds/data_clean.nii.gz', 'normal_motion*/data_clean.nii.gz'], case)\n",
    "\n",
    "    for img_file in files:\n",
    "        print(img_file)\n",
    "        img = nb.load(img_file).get_fdata()\n",
    "        img= np.round(img)\n",
    "        img = img.astype(int)\n",
    "        img = util.relabel(img,4,0)\n",
    "\n",
    "        # find centerline points\n",
    "        slice_list = []; center_list_raw = []\n",
    "        for i in range(0,img.shape[-1]):\n",
    "            I = img[:,:,i]\n",
    "            # no heart:\n",
    "            if np.where(I > 0)[0].shape[0] < 20 :\n",
    "                center_list_raw.append(util.center_of_mass(np.zeros((20,20)),0,large = True))\n",
    "                continue\n",
    "            slice_list.append(i)\n",
    "            center_list_raw.append(np.round(util.center_of_mass(I,0,large = True),2))\n",
    "\n",
    "        np.save(os.path.join(os.path.dirname(img_file), 'centerlist.npy'), np.asarray(center_list_raw))\n",
    "        ff.txt_writer(os.path.join(os.path.dirname(img_file),'centerlist.txt'), center_list_raw, ['']*len(center_list_raw))"
   ]
  },
  {
   "cell_type": "code",
   "execution_count": null,
   "metadata": {},
   "outputs": [],
   "source": []
  }
 ],
 "metadata": {
  "kernelspec": {
   "display_name": "Python 3",
   "language": "python",
   "name": "python3"
  },
  "language_info": {
   "codemirror_mode": {
    "name": "ipython",
    "version": 3
   },
   "file_extension": ".py",
   "mimetype": "text/x-python",
   "name": "python",
   "nbconvert_exporter": "python",
   "pygments_lexer": "ipython3",
   "version": "3.8.10"
  }
 },
 "nbformat": 4,
 "nbformat_minor": 2
}

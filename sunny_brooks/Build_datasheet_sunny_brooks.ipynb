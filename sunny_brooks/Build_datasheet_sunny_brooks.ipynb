{
 "cells": [
  {
   "cell_type": "code",
   "execution_count": 1,
   "metadata": {},
   "outputs": [],
   "source": [
    "import os\n",
    "import numpy as np\n",
    "import pandas as pd\n",
    "import CMR_HFpEF_Analysis.functions_collection as ff"
   ]
  },
  {
   "cell_type": "code",
   "execution_count": 15,
   "metadata": {},
   "outputs": [
    {
     "name": "stdout",
     "output_type": "stream",
     "text": [
      "90\n"
     ]
    }
   ],
   "source": [
    "data_path = '/mnt/mount_zc_NAS/HFpEF/data/Sunny_Brooks/nii-images'\n",
    "patient_list = ff.find_all_target_files(['*/*'],data_path)\n",
    "process_list = pd.read_excel(os.path.join('/mnt/mount_zc_NAS/HFpEF/data/Sunny_Brooks', 'Sunny_Brooks_proecessing.xlsx'))\n",
    "print(len(patient_list))"
   ]
  },
  {
   "cell_type": "code",
   "execution_count": 23,
   "metadata": {},
   "outputs": [],
   "source": [
    "result = []\n",
    "for patient in patient_list:\n",
    "    case_id = os.path.basename(os.path.dirname(patient))\n",
    "    tf = ff.find_timeframe(patient,0,'f')\n",
    "    tf_name = 'tf' + str(tf)\n",
    "\n",
    "    row = process_list.loc[(process_list['case_id'] == case_id) & (process_list['tf'] == tf) ]\n",
    "\n",
    "    if row.iloc[0]['original_slice_num'] <= 6:\n",
    "        continue\n",
    "    \n",
    "    if os.path.isfile(os.path.join(patient, 'img_class_LR_processed.nii.gz')) == 0:\n",
    "        continue\n",
    "    \n",
    "    \n",
    "    InputFile = os.path.join(patient, 'img_class_LR_processed_flip.nii.gz')\n",
    "    result.append([case_id, tf_name, InputFile])\n",
    "   \n"
   ]
  },
  {
   "cell_type": "code",
   "execution_count": 24,
   "metadata": {},
   "outputs": [],
   "source": [
    "df = pd.DataFrame(result, columns = ['Patient_ID','tf','InputFile'])\n",
    "df.to_excel(os.path.join('/mnt/mount_zc_NAS/HFpEF/data/Patient_list/Sunny_Brooks.xlsx'),index=False)"
   ]
  }
 ],
 "metadata": {
  "kernelspec": {
   "display_name": "Python 3.8.10 64-bit",
   "language": "python",
   "name": "python3"
  },
  "language_info": {
   "codemirror_mode": {
    "name": "ipython",
    "version": 3
   },
   "file_extension": ".py",
   "mimetype": "text/x-python",
   "name": "python",
   "nbconvert_exporter": "python",
   "pygments_lexer": "ipython3",
   "version": "3.8.10 (default, Jun 22 2022, 20:18:18) \n[GCC 9.4.0]"
  },
  "vscode": {
   "interpreter": {
    "hash": "e7370f93d1d0cde622a1f8e1c04877d8463912d04d973331ad4851f04de6915a"
   }
  }
 },
 "nbformat": 4,
 "nbformat_minor": 4
}

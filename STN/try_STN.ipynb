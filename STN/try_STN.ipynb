{
 "cells": [
  {
   "cell_type": "code",
   "execution_count": 1,
   "metadata": {},
   "outputs": [
    {
     "name": "stderr",
     "output_type": "stream",
     "text": [
      "2023-08-17 15:23:42.539724: I tensorflow/stream_executor/platform/default/dso_loader.cc:49] Successfully opened dynamic library libcudart.so.11.0\n"
     ]
    }
   ],
   "source": [
    "from voxelmorph.tf.layers import SpatialTransformer\n",
    "import numpy as np\n",
    "import matplotlib.pyplot as plt\n",
    "import os\n",
    "import nibabel as nb\n",
    "import tensorflow as tf\n",
    "import CMR_HFpEF_Analysis.functions_collection as ff\n",
    "import CMR_HFpEF_Analysis.Image_utils as util"
   ]
  },
  {
   "cell_type": "code",
   "execution_count": 3,
   "metadata": {},
   "outputs": [],
   "source": [
    "filename = '/mnt/mount_zc_NAS/HFpEF/data/contour_dataset/simulated_data/4/ED/ds/data_clean.nii.gz'\n",
    "img_file = nb.load(filename)\n",
    "gt_img = img_file.get_fdata()\n",
    "gt_img = util.relabel(np.round(gt_img).astype(int),4,0)\n",
    "\n",
    "filename = '/mnt/mount_zc_NAS/HFpEF/data/contour_dataset/simulated_data/4/ED/normal_motion_1/data_clean.nii.gz'\n",
    "img_file = nb.load(filename)\n",
    "img = img_file.get_fdata()\n",
    "img= util.relabel(np.round(img).astype(int),4,0)\n",
    "\n",
    "\n",
    "filename = '/mnt/mount_zc_NAS/HFpEF/data/contour_dataset/simulated_data/4/ED/normal_motion_2/data_clean.nii.gz'\n",
    "img_file = nb.load(filename)\n",
    "img2 = img_file.get_fdata()\n",
    "img2 = util.relabel(np.round(img2).astype(int),4,0)"
   ]
  },
  {
   "cell_type": "code",
   "execution_count": 11,
   "metadata": {},
   "outputs": [
    {
     "name": "stdout",
     "output_type": "stream",
     "text": [
      "(2, 128, 128, 1)\n"
     ]
    }
   ],
   "source": [
    "i = np.zeros([2, 128, 128, 1])\n",
    "i[0,:,:,0] = img[:,:,4]\n",
    "i[1,:,:,0] = img2[:,:,4]\n",
    "\n",
    "i = tf.reshape(tf.convert_to_tensor(i), (2, i.shape[1], i.shape[2], 1))\n",
    "i = tf.cast(i, dtype = tf.float32)\n",
    "print(i.shape)\n",
    "\n",
    "affine_matrix = np.zeros([2,2,3])\n",
    "affine_matrix[0,...] = np.array([[1,0,2], [0,1,2]])\n",
    "affine_matrix[1,...] = np.array([[1,0,0], [0,1,3]])\n",
    "affine_matrix = tf.cast(tf.convert_to_tensor(affine_matrix), dtype = tf.float32)\n",
    "\n",
    "\n",
    "s = SpatialTransformer(interp_method='nearest',indexing='ij',single_transform=False,fill_value=0,shift_center=True)((i, affine_matrix))\n",
    "s = s.numpy() "
   ]
  },
  {
   "cell_type": "code",
   "execution_count": 13,
   "metadata": {},
   "outputs": [
    {
     "data": {
      "text/plain": [
       "<matplotlib.image.AxesImage at 0x7f0dd0519c10>"
      ]
     },
     "execution_count": 13,
     "metadata": {},
     "output_type": "execute_result"
    },
    {
     "data": {
      "image/png": "[encoded data removed]",
      "text/plain": [
       "<Figure size 800x200 with 4 Axes>"
      ]
     },
     "metadata": {},
     "output_type": "display_data"
    }
   ],
   "source": [
    "plt.figure(figsize = (8,2))\n",
    "plt.subplot(141); plt.imshow(s[1,:,:,0], 'gray')\n",
    "plt.subplot(142); plt.imshow(gt_img[:,:,4], 'gray')\n",
    "plt.subplot(143); plt.imshow(gt_img[:,:,4] - s[1,:,:,0], 'gray')\n",
    "plt.subplot(144); plt.imshow(gt_img[:,:,4] - i[1,:,:,0], 'gray')"
   ]
  },
  {
   "cell_type": "code",
   "execution_count": 17,
   "metadata": {},
   "outputs": [
    {
     "name": "stdout",
     "output_type": "stream",
     "text": [
      "tf.Tensor(6.0, shape=(), dtype=float32) tf.Tensor(13.0, shape=(), dtype=float32) tf.Tensor(0.923077, shape=(), dtype=float32)\n"
     ]
    }
   ],
   "source": [
    "import tensorflow as tf\n",
    "image_1 = tf.constant([\n",
    "    [[0, 0], [0, 1], [1, 1]],\n",
    "    [[0,0], [0,1], [2,1]],\n",
    "    [[2,2], [2,2], [0,2]]\n",
    "], dtype=tf.float32)\n",
    "\n",
    "image_2 = tf.constant([\n",
    "    [[0, 0], [0, 0], [1, 1]],\n",
    "    [[0,0], [0,1], [2,1]],\n",
    "    [[2,2], [2,2], [2,2]]\n",
    "], dtype=tf.float32)\n",
    "\n",
    "class_mask1 = tf.cast(tf.equal(image_1, 2), dtype=tf.float32)\n",
    "class_mask2 = tf.cast(tf.equal(image_2, 2), dtype=tf.float32)\n",
    "\n",
    "intersection = tf.reduce_sum(class_mask1 * class_mask2)\n",
    "union = tf.reduce_sum(class_mask1) + tf.reduce_sum(class_mask2)\n",
    "dice = (2.0 * intersection + 1e-5) / (union + 1e-5)\n",
    "\n",
    "print(intersection, union, dice)"
   ]
  }
 ],
 "metadata": {
  "kernelspec": {
   "display_name": "Python 3",
   "language": "python",
   "name": "python3"
  },
  "language_info": {
   "codemirror_mode": {
    "name": "ipython",
    "version": 3
   },
   "file_extension": ".py",
   "mimetype": "text/x-python",
   "name": "python",
   "nbconvert_exporter": "python",
   "pygments_lexer": "ipython3",
   "version": "3.8.10"
  },
  "orig_nbformat": 4
 },
 "nbformat": 4,
 "nbformat_minor": 2
}

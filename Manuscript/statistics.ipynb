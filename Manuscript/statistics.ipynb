{
 "cells": [
  {
   "cell_type": "code",
   "execution_count": 1,
   "metadata": {},
   "outputs": [],
   "source": [
    "import pandas as pd\n",
    "from scipy import stats\n",
    "import numpy as np\n",
    "import os"
   ]
  },
  {
   "attachments": {},
   "cell_type": "markdown",
   "metadata": {},
   "source": [
    "# Mann-whitney U test"
   ]
  },
  {
   "cell_type": "code",
   "execution_count": 22,
   "metadata": {},
   "outputs": [],
   "source": [
    "from scipy.stats import mannwhitneyu\n",
    "main_path = '/mnt/mount_zc_NAS/HFpEF/'\n",
    "end2end = pd.read_excel(main_path + 'predict/end2end/comparison_misalignment_unit_pixel_edited.xlsx').iloc[0:4365]\n",
    "twostep = pd.read_excel(main_path + 'predict/STN_vector_img/comparison_misalignment_unit_pixel_edited.xlsx').iloc[0:4365]\n"
   ]
  },
  {
   "cell_type": "code",
   "execution_count": 23,
   "metadata": {},
   "outputs": [
    {
     "name": "stdout",
     "output_type": "stream",
     "text": [
      "6.636201615312579e-12\n"
     ]
    }
   ],
   "source": [
    "statistic, p_value = mannwhitneyu(end2end['Misalignment_pred'], twostep['Misalignment_pred'], alternative='less')\n",
    "print(p_value)"
   ]
  },
  {
   "attachments": {},
   "cell_type": "markdown",
   "metadata": {},
   "source": [
    "# t-test"
   ]
  },
  {
   "cell_type": "code",
   "execution_count": 24,
   "metadata": {},
   "outputs": [],
   "source": [
    "main_path = '/mnt/mount_zc_NAS/HFpEF/predict/'\n",
    "motion = pd.read_excel(os.path.join(main_path , 'EDSR_LVmyo_motion_new/comparison_img_edited.xlsx')).iloc[0:4365]\n",
    "twostep = pd.read_excel(os.path.join(main_path , 'EDSR_LVmyo_ds_new/comparison_img_edited.xlsx')).iloc[0:4365]\n",
    "end2end = pd.read_excel(os.path.join(main_path , 'end2end/comparison_img_edited.xlsx')).iloc[0:4365]"
   ]
  },
  {
   "cell_type": "code",
   "execution_count": 33,
   "metadata": {},
   "outputs": [
    {
     "data": {
      "text/plain": [
       "Ttest_relResult(statistic=106.15091537620586, pvalue=0.0)"
      ]
     },
     "execution_count": 33,
     "metadata": {},
     "output_type": "execute_result"
    }
   ],
   "source": [
    "motion_r = motion['myo_dice_optimized']\n",
    "twostep_r = twostep['myo_dice_optimized']\n",
    "end2end_r = end2end['myo_hd_one_direct_optimized']\n",
    "\n",
    "stats.ttest_rel( twostep_r, motion_r,alternative = 'greater')"
   ]
  },
  {
   "attachments": {},
   "cell_type": "markdown",
   "metadata": {},
   "source": [
    "# sunny brooks"
   ]
  },
  {
   "cell_type": "code",
   "execution_count": 21,
   "metadata": {},
   "outputs": [
    {
     "name": "stdout",
     "output_type": "stream",
     "text": [
      "patient_id     SC-N-40\n",
      "lv_dice       0.798441\n",
      "myo_dice      0.550576\n",
      "lv_hd          1.41421\n",
      "myo_hd         6.32456\n",
      "Name: 42, dtype: object\n"
     ]
    }
   ],
   "source": [
    "main_path = '/mnt/mount_zc_NAS/HFpEF/predict/'\n",
    "motion = pd.read_excel(os.path.join(main_path , 'Sunny_Brooks/results/LAX_results_collections.xlsx'), sheet_name='super-resolution').iloc[34:43]\n",
    "twostep = pd.read_excel(os.path.join(main_path , 'Sunny_Brooks/results/LAX_results_collections.xlsx'), sheet_name='two-step').iloc[34:43]\n",
    "end2end = pd.read_excel(os.path.join(main_path , 'Sunny_Brooks/results/LAX_results_collections.xlsx'), sheet_name='end2end').iloc[34:43]\n",
    "\n",
    "print(motion.iloc[-1])"
   ]
  },
  {
   "cell_type": "code",
   "execution_count": 24,
   "metadata": {},
   "outputs": [
    {
     "name": "stdout",
     "output_type": "stream",
     "text": [
      "Ttest_relResult(statistic=2.053528723539007, pvalue=0.03705051429852133)\n"
     ]
    }
   ],
   "source": [
    "# motion_r = motion['myo_dice']\n",
    "# twostep_r = twostep['myo_dice']\n",
    "# end2end_r = end2end['myo_dice']\n",
    "\n",
    "motion_r = motion['lv_dice']\n",
    "twostep_r = twostep['lv_dice']\n",
    "end2end_r = end2end['lv_dice']\n",
    "\n",
    "print(stats.ttest_rel(end2end_r, motion_r, alternative = 'greater'))\n"
   ]
  },
  {
   "cell_type": "code",
   "execution_count": null,
   "metadata": {},
   "outputs": [],
   "source": []
  }
 ],
 "metadata": {
  "kernelspec": {
   "display_name": "Python 3",
   "language": "python",
   "name": "python3"
  },
  "language_info": {
   "codemirror_mode": {
    "name": "ipython",
    "version": 3
   },
   "file_extension": ".py",
   "mimetype": "text/x-python",
   "name": "python",
   "nbconvert_exporter": "python",
   "pygments_lexer": "ipython3",
   "version": "3.8.10"
  },
  "orig_nbformat": 4,
  "vscode": {
   "interpreter": {
    "hash": "e7370f93d1d0cde622a1f8e1c04877d8463912d04d973331ad4851f04de6915a"
   }
  }
 },
 "nbformat": 4,
 "nbformat_minor": 2
}

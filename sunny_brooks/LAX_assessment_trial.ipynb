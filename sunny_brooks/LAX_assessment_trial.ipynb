{
 "cells": [
  {
   "cell_type": "code",
   "execution_count": 1,
   "metadata": {},
   "outputs": [
    {
     "name": "stderr",
     "output_type": "stream",
     "text": [
      "2023-02-22 21:40:49.222570: I tensorflow/stream_executor/platform/default/dso_loader.cc:49] Successfully opened dynamic library libcudart.so.11.0\n"
     ]
    }
   ],
   "source": [
    "import numpy as np\n",
    "import matplotlib.pyplot as plt\n",
    "import nibabel as nb\n",
    "import os\n",
    "import math\n",
    "from scipy.ndimage import zoom\n",
    "import CMR_HFpEF_Analysis.data_simulation.transformation as transform\n",
    "import CMR_HFpEF_Analysis.functions_collection as ff\n",
    "import CMR_HFpEF_Analysis.Defaults as Defaults\n",
    "import CMR_HFpEF_Analysis.Image_utils as util\n",
    "import CMR_HFpEF_Analysis.sunny_brooks.functions_for_LAX as ff_LAX"
   ]
  },
  {
   "attachments": {},
   "cell_type": "markdown",
   "metadata": {},
   "source": [
    "# the line with ############: you can find the numbers from LAX_comparison_preparation.xlsx and LAX_assessment_sunny_brooks.xlsx"
   ]
  },
  {
   "attachments": {},
   "cell_type": "markdown",
   "metadata": {},
   "source": [
    "load case"
   ]
  },
  {
   "cell_type": "code",
   "execution_count": 89,
   "metadata": {},
   "outputs": [
    {
     "name": "stdout",
     "output_type": "stream",
     "text": [
      "(128, 128, 70)\n"
     ]
    },
    {
     "data": {
      "text/plain": [
       "<matplotlib.image.AxesImage at 0x7f1c72cf5c10>"
      ]
     },
     "execution_count": 89,
     "metadata": {},
     "output_type": "execute_result"
    },
    {
     "data": {
      "image/png": "[encoded data removed]",
      "text/plain": [
       "<Figure size 600x200 with 3 Axes>"
      ]
     },
     "metadata": {},
     "output_type": "display_data"
    }
   ],
   "source": [
    "# load case\n",
    "main_path  = os.path.join('/mnt/mount_zc_NAS/HFpEF/predict/Sunny_Brooks/Iteration_C/round_1/images')\n",
    "case_path = os.path.join(main_path, 'SC-HF-NI-36/tf2/pred_img_HR_final.nii.gz')\n",
    "case = nb.load(case_path)\n",
    "spacing = [1.3672, 1.3672, 1.6]\n",
    "affine = case.affine\n",
    "img = case.get_fdata()\n",
    "img = np.round(img); img = img.astype(int)\n",
    "\n",
    "# zoom to have the same dimension\n",
    "img = zoom(img, [1,1,spacing[-1]/1.3672], order = 0)\n",
    "\n",
    "print(img.shape)\n",
    "\n",
    "plt.figure(figsize = (6,2))\n",
    "plt.subplot(131); plt.imshow(img[64, ...], 'gray')\n",
    "plt.subplot(132); plt.imshow(img[:,64, :], 'gray')\n",
    "plt.subplot(133); plt.imshow(img[:,:,57], 'gray')"
   ]
  },
  {
   "attachments": {},
   "cell_type": "markdown",
   "metadata": {},
   "source": [
    "find LV long axis"
   ]
  },
  {
   "cell_type": "code",
   "execution_count": 79,
   "metadata": {},
   "outputs": [
    {
     "name": "stdout",
     "output_type": "stream",
     "text": [
      "25\n"
     ]
    }
   ],
   "source": [
    "original_apex_slice = 5   ############\n",
    "original_base_slice = 53  ############\n",
    "original_apex_mid, original_base_mid, L_list, x_list, y_list, base_point_list = ff_LAX.long_axis(img, original_apex_slice, original_base_slice, incre_unit = 3)\n",
    "print(len(L_list))\n",
    "if len(L_list) >= 15:\n",
    "    original_apex_mid, original_base_mid, L_list, x_list, y_list, base_point_list = ff_LAX.long_axis(img, original_apex_slice, original_base_slice, incre_unit = 4)   \n",
    "ii = 12   ############\n",
    "L = L_list[ii]\n",
    "x = x_list[ii]\n",
    "y = y_list[ii]\n",
    "\n",
    "img_new = ff_LAX.resample_img(img, original_apex_mid, L, x, y)"
   ]
  },
  {
   "cell_type": "code",
   "execution_count": 124,
   "metadata": {},
   "outputs": [
    {
     "name": "stdout",
     "output_type": "stream",
     "text": [
      "[62 57 53] [52 48  5]\n",
      "[0 0 1] [1. 0. 0.] [0. 1. 0.]\n",
      "71\n"
     ]
    }
   ],
   "source": [
    "# find apex slice and basal slice\n",
    "original_apex_slice = 5\n",
    "original_base_slice = 53\n",
    "\n",
    "# now find apex mid point\n",
    "original_apex_mid = util.center_of_mass(img[:,:,original_apex_slice],0 ,large = True)\n",
    "original_apex_mid = np.round(np.asarray([original_apex_mid[0], original_apex_mid[1], original_apex_slice])).astype(int)\n",
    "original_base_mid = util.center_of_mass(img[:,:,original_base_slice],0, large = True)\n",
    "original_base_mid = np.round(np.asarray([original_base_mid[0], original_base_mid[1], original_base_slice])).astype(int)\n",
    "print(original_base_mid, original_apex_mid)\n",
    "\n",
    "# long-axis\n",
    "L = original_base_mid - original_apex_mid\n",
    "L = ff.normalize(L)\n",
    "\n",
    "L = np.asarray([0,0,1])\n",
    "# find two perpendicular axes to L (these should be the new x and y)\n",
    "a = [0,-1,0]\n",
    "x = ff.normalize(np.cross(L, a))\n",
    "y = ff.normalize(np.cross(L, x))\n",
    "# L = np.round(L,4); x = np.round(x,4); y = np.round(y,4)\n",
    "\n",
    "print(L,x,y)\n",
    "\n",
    "# let's resample the volume\n",
    "# first, we need a list of centers along the Long-axis\n",
    "# start from apex mid:\n",
    "centers  = []\n",
    "count_a = (original_apex_mid[-1] - 0) // L[-1]\n",
    "count_b = (img.shape[-1] - original_apex_mid[-1]) // L[-1]\n",
    "\n",
    "for i in range(int(-count_a),int(count_b)+1):\n",
    "    c = original_apex_mid + L * i\n",
    "    centers.append(c)\n",
    "# centers = centers[:img.shape[-1]]\n",
    "print(len(centers))\n",
    "\n",
    "# define interpolation\n",
    "interpolation = ff.define_interpolation(img)\n",
    "\n",
    "# reslice\n",
    "img_new = np.zeros((img.shape[0],img.shape[1], len(centers)))\n",
    "for i in range(0, len(centers)):\n",
    "    img_new[:,:,i] = ff.reslice_mpr(np.zeros([img.shape[0], img.shape[1]]), centers[i],x,y,1,1,interpolation)"
   ]
  },
  {
   "attachments": {},
   "cell_type": "markdown",
   "metadata": {},
   "source": [
    "load LAX"
   ]
  },
  {
   "cell_type": "code",
   "execution_count": 85,
   "metadata": {},
   "outputs": [
    {
     "name": "stdout",
     "output_type": "stream",
     "text": [
      "(1.3656387, 1.3656387, 7.0)\n",
      "gt y: 22 93 (72,)\n",
      "gt x:  31 98 (68,)\n"
     ]
    },
    {
     "data": {
      "text/plain": [
       "<matplotlib.image.AxesImage at 0x7f1c72caea60>"
      ]
     },
     "execution_count": 85,
     "metadata": {},
     "output_type": "execute_result"
    },
    {
     "data": {
      "image/png": "[encoded data removed]",
      "text/plain": [
       "<Figure size 200x200 with 1 Axes>"
      ]
     },
     "metadata": {},
     "output_type": "display_data"
    }
   ],
   "source": [
    "# load endo segmentation first\n",
    "filepath = '/mnt/mount_zc_NAS/HFpEF/data/Sunny_Brooks/LAX'\n",
    "endo_file = os.path.join(filepath, 'contours/SC-HF-NI-36/4CH_2_endo.nii.gz')\n",
    "endo = nb.load(endo_file).get_fdata()\n",
    "print(nb.load(endo_file).header.get_zooms())\n",
    "# print(endo.shape, np.unique(endo))\n",
    "\n",
    "# load epi segmentation\n",
    "epi_file = os.path.join(filepath, 'contours/SC-HF-NI-36/4CH_2_epi.nii.gz')\n",
    "epi = nb.load(epi_file).get_fdata()\n",
    "# print(epi.shape, np.unique(epi))\n",
    "\n",
    "gt = np.copy(epi)\n",
    "gt[epi==1] = 2\n",
    "gt[endo==1] = 1\n",
    "\n",
    "\n",
    "# find out which slice has segmentation\n",
    "S = [i for i in range(0,endo.shape[-1]) if np.sum(endo[:,:,i]) > 0][0]\n",
    "gt = gt[:,:, S]\n",
    "\n",
    "# move to center\n",
    "gt = util.move_heart_center_to_image_center(gt)\n",
    "\n",
    "# flip \n",
    "gt = np.flip(gt,1)\n",
    "\n",
    "# dimension\n",
    "gt = util.crop_or_pad(gt,[128,128])\n",
    "\n",
    "# y axis crop\n",
    "gt[:,94:] = 0  ############\n",
    "gt[:,:22] = 0  ############\n",
    "gt_slices = np.asarray([ii for ii in range(0,gt.shape[-1]) if np.sum(gt[:,ii]) > 0])\n",
    "print('gt y:' ,gt_slices[0], gt_slices[-1], gt_slices.shape)\n",
    "\n",
    "# x axis zoom\n",
    "gt_slices_x = np.asarray([ii for ii in range(0,gt.shape[0]) if np.sum(gt[ii,:]) > 0])\n",
    "print('gt x: ',gt_slices_x[0], gt_slices_x[-1], gt_slices_x.shape)\n",
    "\n",
    "# gt_copy = np.copy(gt)\n",
    "# gt_copy = zoom(gt_copy, [1.15,1] ,order = 0)  ############\n",
    "# gt_copy_slices = np.asarray([ii for ii in range(0,gt_copy.shape[0]) if np.sum(gt_copy[ii,:]) > 0])\n",
    "# gt = np.zeros(gt.shape)\n",
    "# gt[gt_copy_slices[0]: gt_copy_slices[-1]+1, :] = gt_copy[gt_copy_slices[0]: gt_copy_slices[-1]+1, :]\n",
    "# gt = util.move_heart_center_to_image_center(gt)\n",
    "\n",
    "# # # x axis crop\n",
    "# print('gt new x: ',np.asarray([ii for ii in range(0,gt.shape[0]) if np.sum(gt[ii,:]) > 0])[0], np.asarray([ii for ii in range(0,gt.shape[0]) if np.sum(gt[ii,:]) > 0])[-1])\n",
    "# gt[:36, :] = 0  ############\n",
    "\n",
    "\n",
    "plt.figure(figsize = (2,2))\n",
    "plt.imshow(gt, 'gray')\n",
    "\n",
    "# nb.save(nb.Nifti1Image(gt,affine = nb.load(epi_file).affine, header = nb.load(epi_file).header), os.path.join(os.path.dirname(epi_file), 'gt_processed.nii.gz'))"
   ]
  },
  {
   "attachments": {},
   "cell_type": "markdown",
   "metadata": {},
   "source": [
    "compare"
   ]
  },
  {
   "cell_type": "code",
   "execution_count": 81,
   "metadata": {},
   "outputs": [
    {
     "name": "stdout",
     "output_type": "stream",
     "text": [
      "[58 65  7]\n"
     ]
    },
    {
     "data": {
      "text/plain": [
       "<matplotlib.image.AxesImage at 0x7f1c72d3d1c0>"
      ]
     },
     "execution_count": 81,
     "metadata": {},
     "output_type": "execute_result"
    },
    {
     "data": {
      "image/png": "[encoded data removed]",
      "text/plain": [
       "<Figure size 600x200 with 3 Axes>"
      ]
     },
     "metadata": {},
     "output_type": "display_data"
    }
   ],
   "source": [
    "# find new long axis\n",
    "new_apex_slice = 7  ############\n",
    "new_apex_mid = util.center_of_mass(img_new[:,:,new_apex_slice],0 ,large = True)\n",
    "new_apex_mid = np.round(np.asarray([new_apex_mid[0], new_apex_mid[1], new_apex_slice])).astype(int)\n",
    "print(new_apex_mid)\n",
    " \n",
    "# z-axis across new_apex_mid is the new long axis\n",
    "\n",
    "plt.figure(figsize = (6,2))\n",
    "plt.subplot(131); plt.imshow(img_new[new_apex_mid[0], ...], 'gray')\n",
    "plt.subplot(132); plt.imshow(img_new[:,new_apex_mid[1], :], 'gray')\n",
    "plt.subplot(133); plt.imshow(img_new[:,:,13], 'gray') "
   ]
  },
  {
   "cell_type": "code",
   "execution_count": 88,
   "metadata": {},
   "outputs": [
    {
     "name": "stdout",
     "output_type": "stream",
     "text": [
      "apex:  3 -4\n",
      "original slice number x:  32 100 (69,)\n",
      "original slice number y:  (53,)\n",
      "best mean DICE:  3 -4 -20 3 0.962165395543592 0.6779431664411367 0.8200542809923643\n",
      "best mean HD:  3 -4 -20 3 4.3228335614501745 6.113409850484425 5.2181217059673\n"
     ]
    },
    {
     "data": {
      "image/png": "[encoded data removed]",
      "text/plain": [
       "<Figure size 400x200 with 2 Axes>"
      ]
     },
     "metadata": {},
     "output_type": "display_data"
    }
   ],
   "source": [
    "# gt = nb.load(os.path.join(os.path.dirname(epi_file), 'gt_processed.nii.gz')).get_fdata(); gt = np.round(gt).astype(int)\n",
    "# gt_slices = np.asarray([ii for ii in range(0,gt.shape[-1]) if np.sum(gt[:,ii]) > 0])\n",
    "\n",
    "max_lv_dice = 0; max_myo_dice = 0; max_mean_dice = 0\n",
    "min_lv_HD = 1000; min_myo_HD = 1000; min_mean_HD = 1000\n",
    "optim_lv_dice = [0,0,0,0]; optim_myo_dice = [0,0,0,0]; optim_mean_dice = [0,0,0,0]\n",
    "optim_lv_HD = [0,0,0,0]; optim_myo_HD = [0,0,0,0]; optim_mean_HD = [0,0,0,0]\n",
    "\n",
    "pred_pre_crop =  2 ########\n",
    "\n",
    "for apex_x in range(3,4): ############\n",
    "    for apex_y in range(-4,-3): ############\n",
    "        print('apex: ', apex_x, apex_y)\n",
    "        for r in range(-20,-10,10): ############\n",
    "            apex_m = new_apex_mid - np.asarray([apex_x, apex_y, 0])\n",
    "            translation,rotation,scale,M = transform.generate_transform_matrix([0,0,0],[0,0,r / 180 * np.pi],[1,1,1],img_new.shape)\n",
    "            M = transform.transform_full_matrix_offset_heart(M, np.array([apex_m[0], apex_m[1], img_new.shape[-1]//2]))\n",
    "            img_t = transform.apply_affine_transform(img_new, M, order = 0)\n",
    "\n",
    "            pred = img_t[apex_m[0],:,:]\n",
    "            pred = util.crop_or_pad(pred,[128,128])\n",
    "\n",
    "            # move to center\n",
    "            pred = util.move_heart_center_to_image_center(pred)\n",
    "\n",
    "            # crop base\n",
    "            heart_slice = np.asarray([ii for ii in range(0,pred.shape[1]) if np.sum(pred[:,ii]) > 0])\n",
    "\n",
    "            for crop_base in range(3,4): ############\n",
    "                pred[:,(heart_slice[-1] - pred_pre_crop - crop_base):] = 0\n",
    "\n",
    "                # make the slice number equal to gt\n",
    "                pred_slices = np.asarray([ii for ii in range(0,pred.shape[0]) if np.sum(pred[ii,:]) > 0])\n",
    "                print('original slice number x: ',pred_slices[0],pred_slices[-1], pred_slices.shape)\n",
    "\n",
    "                pred_slices = np.asarray([ii for ii in range(0,pred.shape[-1]) if np.sum(pred[:,ii]) > 0])\n",
    "                print('original slice number y: ',pred_slices.shape)\n",
    "                pred_copy = np.copy(pred)\n",
    "                pred_copy = zoom(pred_copy, [1, gt_slices.shape[0] / pred_slices.shape[0]], order = 0)\n",
    "                pred_copy_slices = np.asarray([ii for ii in range(0,pred_copy.shape[-1]) if np.sum(pred_copy[:,ii]) > 0])\n",
    "                pred = np.zeros(pred.shape)\n",
    "                pred[:, pred_copy_slices[0]: pred_copy_slices[-1]+1] = pred_copy[:, pred_copy_slices[0]: pred_copy_slices[-1]+1]\n",
    "                pred_slices = np.asarray([ii for ii in range(0,pred.shape[-1]) if np.sum(pred[:,ii]) > 0])\n",
    "                # print('new slice number: ',pred_slices.shape)\n",
    "\n",
    "                # make the base slice overlap\n",
    "                move = [0, gt_slices[-1] - pred_slices[-1]]\n",
    "                pred = util.move_3Dimage(pred, move)\n",
    "\n",
    "  \n",
    "\n",
    "                plt.figure(figsize = (4,2))\n",
    "                plt.subplot(121); plt.imshow(gt, 'gray')\n",
    "                plt.subplot(122); plt.imshow(pred, 'gray')\n",
    "                \n",
    "\n",
    "                ##### dice\n",
    "                # pred_lv_dice, ds, _ = util.Dice_optim(pred, gt, [1], d = 5, threeDimage=False)\n",
    "                # pred_myo_dice, ds, _ = util.Dice_optim(pred, gt, [2], d = 5, threeDimage=False)\n",
    "                \n",
    "                # if pred_lv_dice > max_lv_dice:\n",
    "                #     optim_lv_dice = [apex_x, apex_y, r,crop_base]\n",
    "                #     max_lv_dice = pred_lv_dice\n",
    "                #     print('best lv DICE: ',apex_x, apex_y, r, crop_base, pred_lv_dice)\n",
    "\n",
    "                # if pred_myo_dice > max_myo_dice:\n",
    "                #     optim_myo_dice = [apex_x, apex_y, r,crop_base]\n",
    "                #     max_myo_dice = pred_myo_dice\n",
    "                #     print('best myo DICE: ',apex_x, apex_y, r, crop_base, pred_myo_dice)\n",
    "                \n",
    "\n",
    "                pred_mean_dice, ds, pred_for_dice = util.Dice_optim(pred, gt, [1,2], d = 5, threeDimage=False)\n",
    "                if pred_mean_dice > max_mean_dice:\n",
    "                    max_mean_dice = pred_mean_dice\n",
    "                    optim_mean_dice = [apex_x, apex_y, r, crop_base]\n",
    "                    pred_mean_lv_dice = ff.np_categorical_dice(pred_for_dice, gt, 1)\n",
    "                    pred_mean_myo_dice = ff.np_categorical_dice(pred_for_dice, gt, 2)\n",
    "                    print('best mean DICE: ',apex_x, apex_y, r, crop_base, pred_mean_lv_dice, pred_mean_myo_dice, pred_mean_dice)\n",
    "\n",
    "                ##### HD\n",
    "                # pred_lv_HD, _, _= util.HD_optim(pred, gt,  min = False, k_list = [1], d = 5, pixel_size = 1.367, threeDimage = False)\n",
    "                # pred_myo_HD, _, _= util.HD_optim(pred, gt,  min = False, k_list = [2], d = 5, pixel_size = 1.367, threeDimage = False) \n",
    "                \n",
    "                # if pred_lv_HD < min_lv_HD:\n",
    "                #     optim_lv_HD = [apex_x, apex_y, r,crop_base]\n",
    "                #     min_lv_HD = pred_lv_HD\n",
    "                #     print('best lv HD: ',apex_x, apex_y, r, crop_base, pred_lv_HD)\n",
    "\n",
    "                # if pred_myo_HD < min_myo_HD:\n",
    "                #     optim_myo_HD = [apex_x, apex_y, r,crop_base]\n",
    "                #     min_myo_HD = pred_myo_HD\n",
    "                #     print('best myo HD: ',apex_x, apex_y, r, crop_base, pred_myo_HD)\n",
    "\n",
    "                pred_mean_HD, ds, pred_for_HD = util.HD_optim(pred, gt, min = False, k_list = [1,2], d = 5, pixel_size = 1.367, threeDimage=False)\n",
    "                if pred_mean_HD < min_mean_HD:\n",
    "                    optim_mean_HD = [apex_x, apex_y, r, crop_base]\n",
    "                    min_mean_HD = pred_mean_HD\n",
    "                    gt_lv_pixels = np.asarray(ff.count_pixel(gt,1)[1]); gt_myo_pixels = np.asarray(ff.count_pixel(gt,2)[1])\n",
    "                    pred_lv_pixels = np.asarray(ff.count_pixel(pred_for_HD,1)[1]); pred_myo_pixels = np.asarray(ff.count_pixel(pred_for_HD,2)[1])\n",
    "\n",
    "                    pred_mean_lv_HD = ff.HD( pred_lv_pixels, gt_lv_pixels, pixel_size = 1.367, min = False)\n",
    "                    pred_mean_myo_HD = ff.HD( pred_myo_pixels, gt_myo_pixels,pixel_size = 1.367, min = False)\n",
    "                    \n",
    "                    print('best mean HD: ',apex_x, apex_y, r, crop_base, pred_mean_lv_HD, pred_mean_myo_HD, pred_mean_HD)"
   ]
  }
 ],
 "metadata": {
  "kernelspec": {
   "display_name": "Python 3",
   "language": "python",
   "name": "python3"
  },
  "language_info": {
   "codemirror_mode": {
    "name": "ipython",
    "version": 3
   },
   "file_extension": ".py",
   "mimetype": "text/x-python",
   "name": "python",
   "nbconvert_exporter": "python",
   "pygments_lexer": "ipython3",
   "version": "3.8.10"
  },
  "orig_nbformat": 4,
  "vscode": {
   "interpreter": {
    "hash": "e7370f93d1d0cde622a1f8e1c04877d8463912d04d973331ad4851f04de6915a"
   }
  }
 },
 "nbformat": 4,
 "nbformat_minor": 2
}

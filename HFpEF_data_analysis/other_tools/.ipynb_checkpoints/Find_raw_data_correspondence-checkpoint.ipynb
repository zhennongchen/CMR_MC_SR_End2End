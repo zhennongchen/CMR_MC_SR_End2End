{
 "cells": [
  {
   "cell_type": "code",
   "execution_count": 1,
   "metadata": {},
   "outputs": [],
   "source": [
    "import numpy as np\n",
    "import pydicom\n",
    "import os\n",
    "import h5py\n",
    "import glob\n",
    "import pandas as pd\n",
    "\n",
    "def find_all_target_files(target_file_name,main_folder):\n",
    "    F = np.array([])\n",
    "    for i in target_file_name:\n",
    "        f = np.array(sorted(glob.glob(os.path.join(main_folder, os.path.normpath(i)))))\n",
    "        F = np.concatenate((F,f))\n",
    "    return F"
   ]
  },
  {
   "cell_type": "code",
   "execution_count": 2,
   "metadata": {},
   "outputs": [],
   "source": [
    "# load ID_list\n",
    "id_list = pd.read_excel(os.path.join('/Users/zhennongchen/Documents/Zhennong_CMR_HFpEF/Data/HFpEF/Patient_list','AccessionNumber_ID_list.xlsx'))\n",
    "accession_list = id_list['AccessionNumber']\n",
    "date_list = id_list['StudyDate']"
   ]
  },
  {
   "cell_type": "code",
   "execution_count": 3,
   "metadata": {},
   "outputs": [
    {
     "name": "stdout",
     "output_type": "stream",
     "text": [
      "24\n"
     ]
    }
   ],
   "source": [
    "# load the ID_list\n",
    "\n",
    "# list all the folders that have CMR data\n",
    "main_path = '/Volumes/TOSHIBA_4TB/MGH/MGH_CMR'\n",
    "\n",
    "folder0 = os.path.join(main_path, 'MIDAS')\n",
    "folder1 = os.path.join(main_path, '1120')\n",
    "folder2 = os.path.join(main_path, 'DM/DM')\n",
    "folder3 = os.path.join(main_path, 'HF supplement case')\n",
    "folder4 = os.path.join(main_path, 'hr893_092418180015222442_1')\n",
    "folder5 = os.path.join(main_path, 'hr893_092418180015222442_2')\n",
    "folder6 = os.path.join(main_path, 'hr893_092418180015222442_3')\n",
    "folder7 = os.path.join(main_path, 'hr893_092418180015222442_4')\n",
    "folder8 = os.path.join(main_path, 'hr893_092418180015222442_5')\n",
    "folder9 = os.path.join(main_path, 'MGH/CMR+HF_information_v2/Image/DM')\n",
    "folder10 = os.path.join(main_path, 'MGH/CMR+HF_information_v2/Image/DM supplement case')\n",
    "folder11 = os.path.join(main_path, 'MGH/CMR+HF_information_v2/Image/HF supplement case')\n",
    "folder12 = os.path.join(main_path, 'MGH/CMR+HF_information_v2/Image/HFpEF')\n",
    "folder13 = os.path.join(main_path, 'MGH/CMR+HF_information_v2/Image/HFrEF')\n",
    "folder14 = os.path.join(main_path, 'MGH/CMR+HF_information_v2/Image/supplement case 1029')\n",
    "folder15 = os.path.join(main_path, 'MGH/CMR+HF_information_v2/Image/supplement case 1030')\n",
    "folder16 = os.path.join(main_path, 'MGH/CMR+HF_information_v2/Image/supplement case 1031')\n",
    "folder17 = os.path.join(main_path, 'MGH/CMR+HF_information_v2/Image/supplement case 1101')\n",
    "folder18 = os.path.join(main_path, 'MGH/CMR+HF_information_v2/Image/supplement case 1102')\n",
    "folder19 = os.path.join(main_path, 'image')\n",
    "folder20 = os.path.join(main_path, 'supplement case 1029')\n",
    "folder21 = os.path.join(main_path, 'supplement case 1029-2')\n",
    "folder22 = os.path.join(main_path, 'supplement case 1030')\n",
    "folder23 = os.path.join(main_path, 'supplement case 1102')\n",
    "\n",
    "F = [folder0, folder1, folder2, folder3, folder4, folder5, folder6, folder7, folder8, folder9, folder10,\n",
    "    folder11, folder12, folder13, folder14, folder15, folder16, folder17, folder18, folder19, folder20,\n",
    "    folder21,folder22, folder23]\n",
    "print(len(F))"
   ]
  },
  {
   "cell_type": "code",
   "execution_count": 12,
   "metadata": {},
   "outputs": [
    {
     "name": "stdout",
     "output_type": "stream",
     "text": [
      "/Volumes/TOSHIBA_4TB/MGH/MGH_CMR/MIDAS\n",
      "/Volumes/TOSHIBA_4TB/MGH/MGH_CMR/1120\n",
      "/Volumes/TOSHIBA_4TB/MGH/MGH_CMR/DM/DM\n",
      "/Volumes/TOSHIBA_4TB/MGH/MGH_CMR/HF supplement case\n",
      "/Volumes/TOSHIBA_4TB/MGH/MGH_CMR/hr893_092418180015222442_1\n",
      "/Volumes/TOSHIBA_4TB/MGH/MGH_CMR/hr893_092418180015222442_2\n",
      "/Volumes/TOSHIBA_4TB/MGH/MGH_CMR/hr893_092418180015222442_3\n",
      "/Volumes/TOSHIBA_4TB/MGH/MGH_CMR/hr893_092418180015222442_4\n",
      "/Volumes/TOSHIBA_4TB/MGH/MGH_CMR/hr893_092418180015222442_5\n",
      "/Volumes/TOSHIBA_4TB/MGH/MGH_CMR/MGH/CMR+HF_information_v2/Image/DM\n",
      "/Volumes/TOSHIBA_4TB/MGH/MGH_CMR/MGH/CMR+HF_information_v2/Image/DM supplement case\n",
      "/Volumes/TOSHIBA_4TB/MGH/MGH_CMR/MGH/CMR+HF_information_v2/Image/HF supplement case\n",
      "/Volumes/TOSHIBA_4TB/MGH/MGH_CMR/MGH/CMR+HF_information_v2/Image/HFpEF\n",
      "/Volumes/TOSHIBA_4TB/MGH/MGH_CMR/MGH/CMR+HF_information_v2/Image/HFrEF\n",
      "/Volumes/TOSHIBA_4TB/MGH/MGH_CMR/MGH/CMR+HF_information_v2/Image/supplement case 1029\n",
      "/Volumes/TOSHIBA_4TB/MGH/MGH_CMR/MGH/CMR+HF_information_v2/Image/supplement case 1030\n",
      "/Volumes/TOSHIBA_4TB/MGH/MGH_CMR/MGH/CMR+HF_information_v2/Image/supplement case 1031\n",
      "/Volumes/TOSHIBA_4TB/MGH/MGH_CMR/MGH/CMR+HF_information_v2/Image/supplement case 1101\n",
      "/Volumes/TOSHIBA_4TB/MGH/MGH_CMR/MGH/CMR+HF_information_v2/Image/supplement case 1102\n",
      "/Volumes/TOSHIBA_4TB/MGH/MGH_CMR/image\n",
      "/Volumes/TOSHIBA_4TB/MGH/MGH_CMR/supplement case 1029\n",
      "/Volumes/TOSHIBA_4TB/MGH/MGH_CMR/supplement case 1029-2\n",
      "/Volumes/TOSHIBA_4TB/MGH/MGH_CMR/supplement case 1030\n",
      "/Volumes/TOSHIBA_4TB/MGH/MGH_CMR/supplement case 1102\n"
     ]
    }
   ],
   "source": [
    "df_by_ID = pd.DataFrame({'OurID': range(1, 1921), 'folder_path': np.nan}, columns=['OurID', 'folder_path'])\n",
    "Results_by_folder = []\n",
    "\n",
    "for b in range(0,len(F)):\n",
    "    big_folder = F[b]\n",
    "    print(big_folder)\n",
    "    \n",
    "\n",
    "    if b == 0: # folder 0\n",
    "        patient_folders = find_all_target_files(['*/*/MR'],big_folder)\n",
    "    else:\n",
    "        patient_folders = find_all_target_files(['*'],big_folder)\n",
    "    assert len(patient_folders) > 0\n",
    "\n",
    "    # pick one patient\n",
    "    for i_p in range(0,len(patient_folders)):\n",
    "        patient = patient_folders[i_p]\n",
    "\n",
    "        # pick the correct image folder\n",
    "        sub_folders = find_all_target_files(['*'],patient)\n",
    "        have_folder = False\n",
    "        for s in sub_folders:\n",
    "            if '.xml' not in s:\n",
    "                dcm_files = find_all_target_files(['*dcm'],s)\n",
    "                if len(dcm_files) >= 10:\n",
    "                    have_folder = True\n",
    "                    break\n",
    "\n",
    "        if have_folder == True:\n",
    "            # read dcm_files\n",
    "            dcm_file = pydicom.dcmread(dcm_files[0])\n",
    "            accession = dcm_file.AccessionNumber\n",
    "            date = dcm_file.StudyDate\n",
    "\n",
    "            # look for the same accession number in the spreadsheet\n",
    "            indexes = accession_list[accession_list == accession].index\n",
    "\n",
    "            indexes_list = []\n",
    "            if indexes.shape[0]==0:\n",
    "                indexes_list = ''\n",
    "            else:\n",
    "                for ii in range(0,indexes.shape[0]):\n",
    "                    indexes_list.append(indexes[ii] + 1)\n",
    "                    df_by_ID.loc[indexes[ii],'folder_path'] = patient\n",
    "\n",
    "            Results_by_folder.append([patient, accession, date, indexes_list])\n",
    "        else:\n",
    "            Results_by_folder.append([patient, '','',''])\n",
    "            \n",
    "df_by_ID.to_excel('/Users/zhennongchen/Documents/Zhennong_CMR_HFpEF/Data/HFpEF/Patient_list/raw_data_correspondence_by_ID.xlsx',index=False)\n",
    "\n",
    "# df = pd.DataFrame(Results_by_folder, columns = ['folder_path', 'AccessionNumber', 'StudyDate', 'OurID'])\n",
    "# df.to_excel('/Users/zhennongchen/Documents/Zhennong_CMR_HFpEF/Data/HFpEF/Patient_list/raw_data_correspondence_by_folder.xlsx',index=False)\n"
   ]
  },
  {
   "cell_type": "code",
   "execution_count": 13,
   "metadata": {},
   "outputs": [],
   "source": [
    "df_by_ID = pd.read_excel('/Users/zhennongchen/Documents/Zhennong_CMR_HFpEF/Data/HFpEF/Patient_list/raw_data_correspondence_by_ID.xlsx')"
   ]
  },
  {
   "cell_type": "code",
   "execution_count": 14,
   "metadata": {},
   "outputs": [
    {
     "name": "stdout",
     "output_type": "stream",
     "text": [
      "519 1920 0.2703125\n"
     ]
    }
   ],
   "source": [
    "nan_count = df_by_ID['folder_path'].isna().sum()\n",
    "total_count = df_by_ID.shape[0]\n",
    "print(nan_count, total_count, nan_count / total_count)"
   ]
  },
  {
   "cell_type": "code",
   "execution_count": 19,
   "metadata": {},
   "outputs": [
    {
     "name": "stdout",
     "output_type": "stream",
     "text": [
      "1156\n",
      "506\n",
      "1388\n",
      "726\n",
      "4 0.006482982171799027 0.993517017828201\n"
     ]
    }
   ],
   "source": [
    "# for HFpEF patient:\n",
    "hf = pd.read_excel('/Users/zhennongchen/Documents/Zhennong_CMR_HFpEF/Data/HFpEF/Patient_list/Important_HFpEF_Patient_list_unique_patient_w_ZCnotes.xlsx')\n",
    "count = 0\n",
    "for i in range(0, hf.shape[0]):\n",
    "    ID = hf.iloc[i]['OurID']\n",
    "    index = df_by_ID[df_by_ID['OurID'] == ID].index\n",
    "    assert index.shape[0] == 1\n",
    "    index = index[0]\n",
    "    \n",
    "    if len(str(df_by_ID.iloc[index]['folder_path']))<5:\n",
    "        count += 1\n",
    "        print(ID)\n",
    "print(count, count / hf.shape[0], 1-count / hf.shape[0] )\n",
    "    "
   ]
  },
  {
   "cell_type": "code",
   "execution_count": null,
   "metadata": {},
   "outputs": [],
   "source": []
  }
 ],
 "metadata": {
  "kernelspec": {
   "display_name": "Python 3 (ipykernel)",
   "language": "python",
   "name": "python3"
  },
  "language_info": {
   "codemirror_mode": {
    "name": "ipython",
    "version": 3
   },
   "file_extension": ".py",
   "mimetype": "text/x-python",
   "name": "python",
   "nbconvert_exporter": "python",
   "pygments_lexer": "ipython3",
   "version": "3.11.5"
  }
 },
 "nbformat": 4,
 "nbformat_minor": 4
}
